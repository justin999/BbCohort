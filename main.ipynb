{
 "cells": [
  {
   "cell_type": "code",
   "execution_count": 40,
   "metadata": {},
   "outputs": [],
   "source": [
    "import requests\n",
    "import lxml.html\n",
    "from bs4 import BeautifulSoup\n",
    "import time"
   ]
  },
  {
   "cell_type": "code",
   "execution_count": 25,
   "metadata": {},
   "outputs": [],
   "source": [
    "r = requests.get('https://www.baseball-reference.com/teams/SEA/2017-roster.shtml')"
   ]
  },
  {
   "cell_type": "code",
   "execution_count": 26,
   "metadata": {},
   "outputs": [
    {
     "name": "stdout",
     "output_type": "stream",
     "text": [
      "<Response [200]>\n"
     ]
    }
   ],
   "source": [
    "print(r)"
   ]
  },
  {
   "cell_type": "code",
   "execution_count": 27,
   "metadata": {},
   "outputs": [],
   "source": [
    "def get_response(url):\n",
    "    return requests.get(url)"
   ]
  },
  {
   "cell_type": "code",
   "execution_count": 28,
   "metadata": {},
   "outputs": [
    {
     "name": "stdout",
     "output_type": "stream",
     "text": [
      "61\n"
     ]
    },
    {
     "data": {
      "text/plain": [
       "'Andrew Albers'"
      ]
     },
     "execution_count": 28,
     "metadata": {},
     "output_type": "execute_result"
    }
   ],
   "source": [
    "html = r.text\n",
    "new_html = html.split('\\n', 1)[1]\n",
    "# print(new_html)\n",
    "root = lxml.html.fromstring(new_html)\n",
    "soup = BeautifulSoup(html, \"lxml\")\n",
    "print(len(soup.find_all(\"th\", attrs={\"class\": \"left \"})))\n",
    "players = soup.find_all(\"th\", attrs={\"class\": \"left \"})\n",
    "players[0].text"
   ]
  },
  {
   "cell_type": "code",
   "execution_count": 29,
   "metadata": {},
   "outputs": [
    {
     "data": {
      "text/plain": [
       "'appearances'"
      ]
     },
     "execution_count": 29,
     "metadata": {},
     "output_type": "execute_result"
    }
   ],
   "source": [
    "soup = BeautifulSoup(html, \"html.parser\")\n",
    "tables = soup.select(\"table\")\n",
    "len(tables)\n",
    "tables[1]['id']"
   ]
  },
  {
   "cell_type": "code",
   "execution_count": 30,
   "metadata": {
    "scrolled": false
   },
   "outputs": [
    {
     "name": "stdout",
     "output_type": "stream",
     "text": [
      "<table class=\"row_summable sortable stats_table\" data-cols-to-freeze=\"0\" id=\"teams_active\"><caption>Active Franchises</caption>\n",
      "<colgroup><col/><col/><col/><col/><col/><col/><col/><col/><col/><col/><col/><col/><col/><col/><col/><col/><col/><col/><col/><col/><col/><col/></colgroup>\n",
      "<thead>\n",
      "<tr>\n",
      "<th aria-label=\"&lt;strong&gt;Rank&lt;/strong&gt;&lt;br&gt;This is a count of the rows from top to bottom.&lt;br&gt;It is recalculated following the sorting of a column.\" class=\"tooltip ranker poptip sort_default_asc show_partial_when_sorting center\" data-stat=\"ranker\" data-tip=\"&lt;strong&gt;Rank&lt;/strong&gt;&lt;br&gt;This is a count of the rows from top to bottom.&lt;br&gt;It is recalculated following the sorting of a column.\" scope=\"col\">Rk</th>\n",
      "<th aria-label=\"Franchise\" class=\" poptip sort_default_asc left\" data-stat=\"franchise_name\" scope=\"col\">Franchise</th>\n",
      "<th aria-label=\"First Season\" class=\" poptip sort_default_asc center\" data-stat=\"year_min\" data-tip=\"First Year\" scope=\"col\">From</th>\n",
      "<th aria-label=\"Final Season\" class=\" poptip center\" data-stat=\"year_max\" data-tip=\"Last Year\" scope=\"col\">To</th>\n",
      "<th aria-label=\"Games Played\" class=\" poptip center\" data-stat=\"G\" data-tip=\"Games Played or Pitched\" scope=\"col\">G</th>\n",
      "<th aria-label=\"Wins\" class=\" poptip center\" data-stat=\"W\" data-tip=\"Wins\" scope=\"col\">W</th>\n",
      "<th aria-label=\"Losses\" class=\" poptip center\" data-stat=\"L\" data-tip=\"Losses\" scope=\"col\">L</th>\n",
      "<th aria-label=\"Win-Loss %\" class=\" poptip hide_non_quals center\" data-filter=\"1\" data-name=\"Win-Loss %\" data-stat=\"win_loss_perc\" data-tip=\"&lt;strong&gt;Win-Loss Percentage&lt;/strong&gt;&lt;br&gt;W / (W + L)&lt;br&gt;For players, leaders need one decision for every ten team games.&lt;br&gt;For managers, minimum to qualify for leading is 320 games.\" scope=\"col\">W-L%</th>\n",
      "<th aria-label=\"Games Over .500\" class=\" poptip center\" data-stat=\"g_over_500\" data-tip=\"&lt;strong&gt;Games over .500&lt;/strong&gt;&lt;br&gt;If positive, the team has won this many games more than it lost.&lt;br&gt;If negative, the team has lost this many more games than it has won.\" scope=\"col\">G&gt;.500</th>\n",
      "<th aria-label=\"Div\" class=\" poptip center\" data-stat=\"divisions\" data-tip=\"&lt;strong&gt;Divisions Won&lt;/strong&gt;&lt;br&gt;The number of times the team won their division.\" scope=\"col\">Divs</th>\n",
      "<th aria-label=\"Pennants\" class=\" poptip center\" data-stat=\"pennants\" data-tip=\"&lt;strong&gt;Pennants Won&lt;/strong&gt;&lt;br&gt;The number of times the team was declared the league champion.&lt;br&gt;This can be determined by record or by playoff results.\" scope=\"col\">Pnnts</th>\n",
      "<th aria-label=\"World Series Titles\" class=\" poptip center\" data-stat=\"world_series_titles\" data-tip=\"&lt;strong&gt;World Series Titles&lt;/strong&gt;&lt;br&gt;The number of times the team won the World Series.&lt;br&gt;Pre-1903 Series are not included.\" scope=\"col\">WS</th>\n",
      "<th aria-label=\"Playoffs\" class=\" poptip center\" data-stat=\"playoffs\" data-tip=\"&lt;strong&gt;Playoffs&lt;/strong&gt;&lt;br&gt;This shows either the farthest each team went into the postseason&lt;br&gt;or how many postseason appearances in team history.\" scope=\"col\">Playoffs</th>\n",
      "<th aria-label=\"&lt;strong&gt;Number of Players&lt;/strong&gt;\" class=\" poptip show_partial_when_sorting center\" data-stat=\"players_number\" data-tip=\"&lt;strong&gt;Number of Players&lt;/strong&gt;\" scope=\"col\">Players</th>\n",
      "<th aria-label=\"&lt;strong&gt;Number of Former Players who are in Hall of Fame&lt;/strong&gt;&lt;br&gt;May or may not have been inducted as players.&lt;br&gt;For instance, Sparky Anderson is listed with Phillies, but not Reds or Tigers\" class=\" poptip show_partial_when_sorting center\" data-stat=\"HOFers\" data-tip=\"&lt;strong&gt;Number of Former Players who are in Hall of Fame&lt;/strong&gt;&lt;br&gt;May or may not have been inducted as players.&lt;br&gt;For instance, Sparky Anderson is listed with Phillies, but not Reds or Tigers\" scope=\"col\">HOF#</th>\n",
      "<th aria-label=\"Runs Scored\" class=\" poptip center\" data-stat=\"R\" data-tip=\"Runs Scored/Allowed\" scope=\"col\">R</th>\n",
      "<th aria-label=\"At Bats\" class=\" poptip center\" data-stat=\"AB\" data-tip=\"At Bats\" scope=\"col\">AB</th>\n",
      "<th aria-label=\"Hits\" class=\" poptip center\" data-stat=\"H\" data-tip=\"Hits/Hits Allowed\" scope=\"col\">H</th>\n",
      "<th aria-label=\"Home Runs\" class=\" poptip center\" data-stat=\"HR\" data-tip=\"Home Runs Hit/Allowed\" scope=\"col\">HR</th>\n",
      "<th aria-label=\"Batting Average\" class=\" poptip hide_non_quals center\" data-filter=\"1\" data-name=\"Batting Average\" data-stat=\"batting_avg\" data-tip='&lt;strong&gt;Hits/At Bats&lt;/strong&gt;&lt;br&gt;For recent years, leaders need 3.1 PA&lt;br&gt;per team game played&lt;br&gt;Bold indicates highest BA using current stats&lt;br&gt;&lt;span class=\"all_time_record\"&gt;Gold&lt;/span&gt; means awarded title at end of year.' scope=\"col\">BA</th>\n",
      "<th aria-label=\"Runs Allowed\" class=\" poptip center\" data-stat=\"RA\" data-tip=\"Runs Allowed\" scope=\"col\">RA</th>\n",
      "<th aria-label=\"Earned Run Average\" class=\" poptip sort_default_asc hide_non_quals center\" data-filter=\"1\" data-name=\"Earned Run Average\" data-stat=\"earned_run_avg\" data-tip=\"&lt;strong&gt;9 * ER / IP&lt;/strong&gt;&lt;br&gt;For recent years, leaders need 1 IP&lt;br&gt;per team game played.&lt;br&gt;Bold indicates lowest ERA using current stats&lt;br&gt;&lt;span class=glimmer&gt;Gold&lt;/span&gt; means awarded ERA title at end of year.\" scope=\"col\">ERA</th>\n",
      "</tr>\n",
      "</thead>\n",
      "<tbody>\n",
      "<tr class=\" partial_table\" valign=\"top\"><td csk=\"0.0010\"> </td><td class=\"zzzz\" colspan=\"21\"><span class=\"moved_names\">Anaheim Angels, see <a class=\"underline_text\" href=\"/teams/ANA/\">Los Angeles Angels</a></span></td></tr>\n",
      "<tr><th class=\"right \" csk=\"1\" data-stat=\"ranker\" scope=\"row\">1</th><td class=\"left \" data-stat=\"franchise_name\"><a href=\"/teams/ARI/\">Arizona Diamondbacks</a></td><td class=\"right \" data-stat=\"year_min\">1998</td><td class=\"right \" data-stat=\"year_max\">2017</td><td class=\"right \" data-stat=\"G\">3,240</td><td class=\"right \" data-stat=\"W\">1,596</td><td class=\"right \" data-stat=\"L\">1,644</td><td class=\"right \" csk=\"0.4925925920\" data-stat=\"win_loss_perc\">.493</td><td class=\"right \" data-stat=\"g_over_500\">-48</td><td class=\"right \" data-stat=\"divisions\">5</td><td class=\"right \" data-stat=\"pennants\">1</td><td class=\"right \" data-stat=\"world_series_titles\">1</td><td class=\"right \" data-stat=\"playoffs\">6</td><td class=\"right \" data-stat=\"players_number\">451</td><td class=\"right \" data-stat=\"HOFers\">2</td><td class=\"right \" data-stat=\"R\">14,717</td><td class=\"right \" data-stat=\"AB\">110,883</td><td class=\"right \" data-stat=\"H\">28,620</td><td class=\"right \" data-stat=\"HR\">3,397</td><td class=\"right \" data-stat=\"batting_avg\">.258</td><td class=\"right \" data-stat=\"RA\">14,926</td><td class=\"right \" data-stat=\"earned_run_avg\">4.23</td></tr>\n",
      "<tr><th class=\"right \" csk=\"2\" data-stat=\"ranker\" scope=\"row\">2</th><td class=\"left \" data-stat=\"franchise_name\"><a href=\"/teams/ATL/\">Atlanta Braves</a></td><td class=\"right \" data-stat=\"year_min\">1876</td><td class=\"right \" data-stat=\"year_max\">2017</td><td class=\"right \" data-stat=\"G\">21,186</td><td class=\"right \" data-stat=\"W\">10,510</td><td class=\"right \" data-stat=\"L\">10,522</td><td class=\"right \" csk=\"0.4997147200\" data-stat=\"win_loss_perc\">.500</td><td class=\"right \" data-stat=\"g_over_500\">-12</td><td class=\"right \" data-stat=\"divisions\">17</td><td class=\"right \" data-stat=\"pennants\">17</td><td class=\"right \" data-stat=\"world_series_titles\">3</td><td class=\"right \" data-stat=\"playoffs\">24</td><td class=\"right \" data-stat=\"players_number\">1966</td><td class=\"right \" data-stat=\"HOFers\">52</td><td class=\"right \" data-stat=\"R\">94,133</td><td class=\"right \" data-stat=\"AB\">725,518</td><td class=\"right \" data-stat=\"H\">188,589</td><td class=\"right \" data-stat=\"HR\">13,476</td><td class=\"right \" data-stat=\"batting_avg\">.260</td><td class=\"right \" data-stat=\"RA\">93,536</td><td class=\"right \" data-stat=\"earned_run_avg\">3.66</td></tr>\n",
      "<tr class=\"partial_table\"><td csk=\"2.0002\"> </td><td class=\"zzzz\" colspan=\"21\"><span class=\"alternate_names\">       Also played as Milwaukee Braves, Boston Braves, Boston Bees, Boston Rustlers, Boston Doves, Boston Beaneaters and Boston Red Stockings</span></td></tr>\n",
      "<tr><th class=\"right \" csk=\"3\" data-stat=\"ranker\" scope=\"row\">3</th><td class=\"left \" data-stat=\"franchise_name\"><a href=\"/teams/BAL/\">Baltimore Orioles</a></td><td class=\"right \" data-stat=\"year_min\">1901</td><td class=\"right \" data-stat=\"year_max\">2017</td><td class=\"right \" data-stat=\"G\">18,282</td><td class=\"right \" data-stat=\"W\">8,667</td><td class=\"right \" data-stat=\"L\">9,505</td><td class=\"right \" csk=\"0.4769425480\" data-stat=\"win_loss_perc\">.477</td><td class=\"right \" data-stat=\"g_over_500\">-838</td><td class=\"right \" data-stat=\"divisions\">9</td><td class=\"right \" data-stat=\"pennants\">7</td><td class=\"right \" data-stat=\"world_series_titles\">3</td><td class=\"right \" data-stat=\"playoffs\">14</td><td class=\"right \" data-stat=\"players_number\">1802</td><td class=\"right \" data-stat=\"HOFers\">31</td><td class=\"right \" data-stat=\"R\">78,870</td><td class=\"right \" data-stat=\"AB\">621,068</td><td class=\"right \" data-stat=\"H\">160,764</td><td class=\"right \" data-stat=\"HR\">13,117</td><td class=\"right \" data-stat=\"batting_avg\">.259</td><td class=\"right \" data-stat=\"RA\">83,612</td><td class=\"right \" data-stat=\"earned_run_avg\">4.01</td></tr>\n",
      "<tr class=\"partial_table\"><td csk=\"3.0002\"> </td><td class=\"zzzz\" colspan=\"21\"><span class=\"alternate_names\">       Also played as St. Louis Browns and Milwaukee Brewers</span></td></tr>\n",
      "<tr class=\" partial_table\" valign=\"top\"><td csk=\"3.0020\"> </td><td class=\"zzzz\" colspan=\"21\"><span class=\"moved_names\">Boston Braves, see <a class=\"underline_text\" href=\"/teams/ATL/\">Atlanta Braves</a></span></td></tr>\n",
      "<tr><th class=\"right \" csk=\"4\" data-stat=\"ranker\" scope=\"row\">4</th><td class=\"left \" data-stat=\"franchise_name\"><a href=\"/teams/BOS/\">Boston Red Sox</a></td><td class=\"right \" data-stat=\"year_min\">1901</td><td class=\"right \" data-stat=\"year_max\">2017</td><td class=\"right \" data-stat=\"G\">18,269</td><td class=\"right \" data-stat=\"W\">9,410</td><td class=\"right \" data-stat=\"L\">8,776</td><td class=\"right \" csk=\"0.5174309900\" data-stat=\"win_loss_perc\">.517</td><td class=\"right \" data-stat=\"g_over_500\">634</td><td class=\"right \" data-stat=\"divisions\">9</td><td class=\"right \" data-stat=\"pennants\">13</td><td class=\"right \" data-stat=\"world_series_titles\">8</td><td class=\"right \" data-stat=\"playoffs\">23</td><td class=\"right \" data-stat=\"players_number\">1783</td><td class=\"right \" data-stat=\"HOFers\">36</td><td class=\"right \" data-stat=\"R\">84,985</td><td class=\"right \" data-stat=\"AB\">624,930</td><td class=\"right \" data-stat=\"H\">166,976</td><td class=\"right \" data-stat=\"HR\">13,259</td><td class=\"right \" data-stat=\"batting_avg\">.267</td><td class=\"right \" data-stat=\"RA\">81,673</td><td class=\"right \" data-stat=\"earned_run_avg\">3.90</td></tr>\n",
      "<tr class=\"partial_table\"><td csk=\"4.0003\"> </td><td class=\"zzzz\" colspan=\"21\"><span class=\"alternate_names\">       Also played as Boston Americans</span></td></tr>\n",
      "<tr class=\" partial_table\" valign=\"top\"><td csk=\"4.0030\"> </td><td class=\"zzzz\" colspan=\"21\"><span class=\"moved_names\">Brooklyn Dodgers, see <a class=\"underline_text\" href=\"/teams/LAD/\">Los Angeles Dodgers</a></span></td></tr>\n",
      "<tr class=\" partial_table\" valign=\"top\"><td csk=\"4.0040\"> </td><td class=\"zzzz\" colspan=\"21\"><span class=\"moved_names\">California Angels, see <a class=\"underline_text\" href=\"/teams/ANA/\">Los Angeles Angels</a></span></td></tr>\n",
      "<tr><th class=\"right \" csk=\"5\" data-stat=\"ranker\" scope=\"row\">5</th><td class=\"left \" data-stat=\"franchise_name\"><a href=\"/teams/CHC/\">Chicago Cubs</a></td><td class=\"right \" data-stat=\"year_min\">1876</td><td class=\"right \" data-stat=\"year_max\">2017</td><td class=\"right \" data-stat=\"G\">21,222</td><td class=\"right \" data-stat=\"W\">10,803</td><td class=\"right \" data-stat=\"L\">10,258</td><td class=\"right \" csk=\"0.5129386060\" data-stat=\"win_loss_perc\">.513</td><td class=\"right \" data-stat=\"g_over_500\">545</td><td class=\"right \" data-stat=\"divisions\">7</td><td class=\"right \" data-stat=\"pennants\">17</td><td class=\"right \" data-stat=\"world_series_titles\">3</td><td class=\"right \" data-stat=\"playoffs\">21</td><td class=\"right \" data-stat=\"players_number\">2051</td><td class=\"right \" data-stat=\"HOFers\">44</td><td class=\"right \" data-stat=\"R\">97,673</td><td class=\"right \" data-stat=\"AB\">726,892</td><td class=\"right \" data-stat=\"H\">190,941</td><td class=\"right \" data-stat=\"HR\">13,952</td><td class=\"right \" data-stat=\"batting_avg\">.263</td><td class=\"right \" data-stat=\"RA\">94,341</td><td class=\"right \" data-stat=\"earned_run_avg\">3.68</td></tr>\n",
      "<tr class=\"partial_table\"><td csk=\"5.0005\"> </td><td class=\"zzzz\" colspan=\"21\"><span class=\"alternate_names\">       Also played as Chicago Orphans, Chicago Colts and Chicago White Stockings</span></td></tr>\n",
      "<tr><th class=\"right \" csk=\"6\" data-stat=\"ranker\" scope=\"row\">6</th><td class=\"left \" data-stat=\"franchise_name\"><a href=\"/teams/CHW/\">Chicago White Sox</a></td><td class=\"right \" data-stat=\"year_min\">1901</td><td class=\"right \" data-stat=\"year_max\">2017</td><td class=\"right \" data-stat=\"G\">18,278</td><td class=\"right \" data-stat=\"W\">9,149</td><td class=\"right \" data-stat=\"L\">9,026</td><td class=\"right \" csk=\"0.5033837680\" data-stat=\"win_loss_perc\">.503</td><td class=\"right \" data-stat=\"g_over_500\">123</td><td class=\"right \" data-stat=\"divisions\">5</td><td class=\"right \" data-stat=\"pennants\">6</td><td class=\"right \" data-stat=\"world_series_titles\">3</td><td class=\"right \" data-stat=\"playoffs\">9</td><td class=\"right \" data-stat=\"players_number\">1744</td><td class=\"right \" data-stat=\"HOFers\">31</td><td class=\"right \" data-stat=\"R\">79,622</td><td class=\"right \" data-stat=\"AB\">618,953</td><td class=\"right \" data-stat=\"H\">161,228</td><td class=\"right \" data-stat=\"HR\">11,146</td><td class=\"right \" data-stat=\"batting_avg\">.260</td><td class=\"right \" data-stat=\"RA\">79,085</td><td class=\"right \" data-stat=\"earned_run_avg\">3.76</td></tr>\n",
      "<tr><th class=\"right \" csk=\"7\" data-stat=\"ranker\" scope=\"row\">7</th><td class=\"left \" data-stat=\"franchise_name\"><a href=\"/teams/CIN/\">Cincinnati Reds</a></td><td class=\"right \" data-stat=\"year_min\">1882</td><td class=\"right \" data-stat=\"year_max\">2017</td><td class=\"right \" data-stat=\"G\">20,807</td><td class=\"right \" data-stat=\"W\">10,457</td><td class=\"right \" data-stat=\"L\">10,211</td><td class=\"right \" csk=\"0.5059512280\" data-stat=\"win_loss_perc\">.506</td><td class=\"right \" data-stat=\"g_over_500\">246</td><td class=\"right \" data-stat=\"divisions\">10</td><td class=\"right \" data-stat=\"pennants\">10</td><td class=\"right \" data-stat=\"world_series_titles\">5</td><td class=\"right \" data-stat=\"playoffs\">15</td><td class=\"right \" data-stat=\"players_number\">1968</td><td class=\"right \" data-stat=\"HOFers\">35</td><td class=\"right \" data-stat=\"R\">93,443</td><td class=\"right \" data-stat=\"AB\">709,692</td><td class=\"right \" data-stat=\"H\">185,570</td><td class=\"right \" data-stat=\"HR\">13,033</td><td class=\"right \" data-stat=\"batting_avg\">.261</td><td class=\"right \" data-stat=\"RA\">92,400</td><td class=\"right \" data-stat=\"earned_run_avg\">3.74</td></tr>\n",
      "<tr class=\"partial_table\"><td csk=\"7.0005\"> </td><td class=\"zzzz\" colspan=\"21\"><span class=\"alternate_names\">       Also played as Cincinnati Redlegs and Cincinnati Red Stockings</span></td></tr>\n",
      "<tr><th class=\"right \" csk=\"8\" data-stat=\"ranker\" scope=\"row\">8</th><td class=\"left \" data-stat=\"franchise_name\"><a href=\"/teams/CLE/\">Cleveland Indians</a></td><td class=\"right \" data-stat=\"year_min\">1901</td><td class=\"right \" data-stat=\"year_max\">2017</td><td class=\"right \" data-stat=\"G\">18,281</td><td class=\"right \" data-stat=\"W\">9,293</td><td class=\"right \" data-stat=\"L\">8,897</td><td class=\"right \" csk=\"0.5108851010\" data-stat=\"win_loss_perc\">.511</td><td class=\"right \" data-stat=\"g_over_500\">396</td><td class=\"right \" data-stat=\"divisions\">9</td><td class=\"right \" data-stat=\"pennants\">6</td><td class=\"right \" data-stat=\"world_series_titles\">2</td><td class=\"right \" data-stat=\"playoffs\">13</td><td class=\"right \" data-stat=\"players_number\">1855</td><td class=\"right \" data-stat=\"HOFers\">33</td><td class=\"right \" data-stat=\"R\">82,711</td><td class=\"right \" data-stat=\"AB\">623,601</td><td class=\"right \" data-stat=\"H\">165,739</td><td class=\"right \" data-stat=\"HR\">12,730</td><td class=\"right \" data-stat=\"batting_avg\">.266</td><td class=\"right \" data-stat=\"RA\">80,900</td><td class=\"right \" data-stat=\"earned_run_avg\">3.83</td></tr>\n",
      "<tr class=\"partial_table\"><td csk=\"8.0005\"> </td><td class=\"zzzz\" colspan=\"21\"><span class=\"alternate_names\">       Also played as Cleveland Naps, Cleveland Bronchos and Cleveland Blues</span></td></tr>\n",
      "<tr><th class=\"right \" csk=\"9\" data-stat=\"ranker\" scope=\"row\">9</th><td class=\"left \" data-stat=\"franchise_name\"><a href=\"/teams/COL/\">Colorado Rockies</a></td><td class=\"right \" data-stat=\"year_min\">1993</td><td class=\"right \" data-stat=\"year_max\">2017</td><td class=\"right \" data-stat=\"G\">3,988</td><td class=\"right \" data-stat=\"W\">1,871</td><td class=\"right \" data-stat=\"L\">2,117</td><td class=\"right \" csk=\"0.4691574720\" data-stat=\"win_loss_perc\">.469</td><td class=\"right \" data-stat=\"g_over_500\">-246</td><td class=\"right \" data-stat=\"divisions\">0</td><td class=\"right \" data-stat=\"pennants\">1</td><td class=\"right \" data-stat=\"world_series_titles\">0</td><td class=\"right \" data-stat=\"playoffs\">4</td><td class=\"right \" data-stat=\"players_number\">551</td><td class=\"right \" data-stat=\"HOFers\">0</td><td class=\"right \" data-stat=\"R\">20,181</td><td class=\"right \" data-stat=\"AB\">137,348</td><td class=\"right \" data-stat=\"H\">37,795</td><td class=\"right \" data-stat=\"HR\">4,516</td><td class=\"right \" data-stat=\"batting_avg\">.275</td><td class=\"right \" data-stat=\"RA\">21,048</td><td class=\"right \" data-stat=\"earned_run_avg\">4.98</td></tr>\n",
      "<tr><th class=\"right \" csk=\"10\" data-stat=\"ranker\" scope=\"row\">10</th><td class=\"left \" data-stat=\"franchise_name\"><a href=\"/teams/DET/\">Detroit Tigers</a></td><td class=\"right \" data-stat=\"year_min\">1901</td><td class=\"right \" data-stat=\"year_max\">2017</td><td class=\"right \" data-stat=\"G\">18,307</td><td class=\"right \" data-stat=\"W\">9,235</td><td class=\"right \" data-stat=\"L\">8,979</td><td class=\"right \" csk=\"0.5070275610\" data-stat=\"win_loss_perc\">.507</td><td class=\"right \" data-stat=\"g_over_500\">256</td><td class=\"right \" data-stat=\"divisions\">7</td><td class=\"right \" data-stat=\"pennants\">11</td><td class=\"right \" data-stat=\"world_series_titles\">4</td><td class=\"right \" data-stat=\"playoffs\">16</td><td class=\"right \" data-stat=\"players_number\">1658</td><td class=\"right \" data-stat=\"HOFers\">24</td><td class=\"right \" data-stat=\"R\">84,704</td><td class=\"right \" data-stat=\"AB\">624,815</td><td class=\"right \" data-stat=\"H\">166,004</td><td class=\"right \" data-stat=\"HR\">13,558</td><td class=\"right \" data-stat=\"batting_avg\">.266</td><td class=\"right \" data-stat=\"RA\">83,656</td><td class=\"right \" data-stat=\"earned_run_avg\">3.98</td></tr>\n",
      "<tr><th class=\"right \" csk=\"11\" data-stat=\"ranker\" scope=\"row\">11</th><td class=\"left \" data-stat=\"franchise_name\"><a href=\"/teams/HOU/\">Houston Astros</a></td><td class=\"right \" data-stat=\"year_min\">1962</td><td class=\"right \" data-stat=\"year_max\">2017</td><td class=\"right \" data-stat=\"G\">8,948</td><td class=\"right \" data-stat=\"W\">4,391</td><td class=\"right \" data-stat=\"L\">4,552</td><td class=\"right \" csk=\"0.4909985460\" data-stat=\"win_loss_perc\">.491</td><td class=\"right \" data-stat=\"g_over_500\">-161</td><td class=\"right \" data-stat=\"divisions\">8</td><td class=\"right \" data-stat=\"pennants\">2</td><td class=\"right \" data-stat=\"world_series_titles\">1</td><td class=\"right \" data-stat=\"playoffs\">11</td><td class=\"right \" data-stat=\"players_number\">885</td><td class=\"right \" data-stat=\"HOFers\">10</td><td class=\"right \" data-stat=\"R\">37,403</td><td class=\"right \" data-stat=\"AB\">303,529</td><td class=\"right \" data-stat=\"H\">77,215</td><td class=\"right \" data-stat=\"HR\">6,972</td><td class=\"right \" data-stat=\"batting_avg\">.254</td><td class=\"right \" data-stat=\"RA\">37,888</td><td class=\"right \" data-stat=\"earned_run_avg\">3.83</td></tr>\n",
      "<tr class=\"partial_table\"><td csk=\"11.0005\"> </td><td class=\"zzzz\" colspan=\"21\"><span class=\"alternate_names\">       Also played as Houston Colt .45's</span></td></tr>\n",
      "<tr class=\" partial_table\" valign=\"top\"><td csk=\"11.0050\"> </td><td class=\"zzzz\" colspan=\"21\"><span class=\"moved_names\">Kansas City Athletics, see <a class=\"underline_text\" href=\"/teams/OAK/\">Oakland Athletics</a></span></td></tr>\n",
      "<tr><th class=\"right \" csk=\"12\" data-stat=\"ranker\" scope=\"row\">12</th><td class=\"left \" data-stat=\"franchise_name\"><a href=\"/teams/KCR/\">Kansas City Royals</a></td><td class=\"right \" data-stat=\"year_min\">1969</td><td class=\"right \" data-stat=\"year_max\">2017</td><td class=\"right \" data-stat=\"G\">7,801</td><td class=\"right \" data-stat=\"W\">3,784</td><td class=\"right \" data-stat=\"L\">4,015</td><td class=\"right \" csk=\"0.4851904090\" data-stat=\"win_loss_perc\">.485</td><td class=\"right \" data-stat=\"g_over_500\">-231</td><td class=\"right \" data-stat=\"divisions\">8</td><td class=\"right \" data-stat=\"pennants\">4</td><td class=\"right \" data-stat=\"world_series_titles\">2</td><td class=\"right \" data-stat=\"playoffs\">9</td><td class=\"right \" data-stat=\"players_number\">857</td><td class=\"right \" data-stat=\"HOFers\">4</td><td class=\"right \" data-stat=\"R\">34,359</td><td class=\"right \" data-stat=\"AB\">267,465</td><td class=\"right \" data-stat=\"H\">70,846</td><td class=\"right \" data-stat=\"HR\">5,953</td><td class=\"right \" data-stat=\"batting_avg\">.265</td><td class=\"right \" data-stat=\"RA\">35,755</td><td class=\"right \" data-stat=\"earned_run_avg\">4.20</td></tr>\n",
      "<tr><th class=\"right \" csk=\"13\" data-stat=\"ranker\" scope=\"row\">13</th><td class=\"left \" data-stat=\"franchise_name\"><a href=\"/teams/ANA/\">Los Angeles Angels</a></td><td class=\"right \" data-stat=\"year_min\">1961</td><td class=\"right \" data-stat=\"year_max\">2017</td><td class=\"right \" data-stat=\"G\">9,107</td><td class=\"right \" data-stat=\"W\">4,557</td><td class=\"right \" data-stat=\"L\">4,547</td><td class=\"right \" csk=\"0.5005492090\" data-stat=\"win_loss_perc\">.501</td><td class=\"right \" data-stat=\"g_over_500\">10</td><td class=\"right \" data-stat=\"divisions\">9</td><td class=\"right \" data-stat=\"pennants\">1</td><td class=\"right \" data-stat=\"world_series_titles\">1</td><td class=\"right \" data-stat=\"playoffs\">10</td><td class=\"right \" data-stat=\"players_number\">1022</td><td class=\"right \" data-stat=\"HOFers\">11</td><td class=\"right \" data-stat=\"R\">39,380</td><td class=\"right \" data-stat=\"AB\">309,299</td><td class=\"right \" data-stat=\"H\">79,713</td><td class=\"right \" data-stat=\"HR\">7,854</td><td class=\"right \" data-stat=\"batting_avg\">.258</td><td class=\"right \" data-stat=\"RA\">39,533</td><td class=\"right \" data-stat=\"earned_run_avg\">3.95</td></tr>\n",
      "<tr class=\"partial_table\"><td csk=\"13.0006\"> </td><td class=\"zzzz\" colspan=\"21\"><span class=\"alternate_names\">       Also played as Los Angeles Angels of Anaheim, Anaheim Angels and California Angels</span></td></tr>\n",
      "<tr><th class=\"right \" csk=\"14\" data-stat=\"ranker\" scope=\"row\">14</th><td class=\"left \" data-stat=\"franchise_name\"><a href=\"/teams/LAD/\">Los Angeles Dodgers</a></td><td class=\"right \" data-stat=\"year_min\">1884</td><td class=\"right \" data-stat=\"year_max\">2017</td><td class=\"right \" data-stat=\"G\">20,606</td><td class=\"right \" data-stat=\"W\">10,776</td><td class=\"right \" data-stat=\"L\">9,691</td><td class=\"right \" csk=\"0.5265060820\" data-stat=\"win_loss_perc\">.527</td><td class=\"right \" data-stat=\"g_over_500\">1085</td><td class=\"right \" data-stat=\"divisions\">16</td><td class=\"right \" data-stat=\"pennants\">23</td><td class=\"right \" data-stat=\"world_series_titles\">6</td><td class=\"right \" data-stat=\"playoffs\">33</td><td class=\"right \" data-stat=\"players_number\">1815</td><td class=\"right \" data-stat=\"HOFers\">50</td><td class=\"right \" data-stat=\"R\">92,185</td><td class=\"right \" data-stat=\"AB\">702,194</td><td class=\"right \" data-stat=\"H\">183,713</td><td class=\"right \" data-stat=\"HR\">12,492</td><td class=\"right \" data-stat=\"batting_avg\">.262</td><td class=\"right \" data-stat=\"RA\">87,571</td><td class=\"right \" data-stat=\"earned_run_avg\">3.53</td></tr>\n",
      "<tr class=\"partial_table\"><td csk=\"14.0006\"> </td><td class=\"zzzz\" colspan=\"21\"><span class=\"alternate_names\">       Also played as Brooklyn Dodgers, Brooklyn Robins, Brooklyn Superbas, Brooklyn Bridegrooms, Brooklyn Grooms, Brooklyn Grays and Brooklyn Atlantics</span></td></tr>\n",
      "<tr><th class=\"right \" csk=\"15\" data-stat=\"ranker\" scope=\"row\">15</th><td class=\"left \" data-stat=\"franchise_name\"><a href=\"/teams/FLA/\">Miami Marlins</a></td><td class=\"right \" data-stat=\"year_min\">1993</td><td class=\"right \" data-stat=\"year_max\">2017</td><td class=\"right \" data-stat=\"G\">3,981</td><td class=\"right \" data-stat=\"W\">1,870</td><td class=\"right \" data-stat=\"L\">2,111</td><td class=\"right \" csk=\"0.4697312230\" data-stat=\"win_loss_perc\">.470</td><td class=\"right \" data-stat=\"g_over_500\">-241</td><td class=\"right \" data-stat=\"divisions\">0</td><td class=\"right \" data-stat=\"pennants\">2</td><td class=\"right \" data-stat=\"world_series_titles\">2</td><td class=\"right \" data-stat=\"playoffs\">2</td><td class=\"right \" data-stat=\"players_number\">541</td><td class=\"right \" data-stat=\"HOFers\">5</td><td class=\"right \" data-stat=\"R\">17,113</td><td class=\"right \" data-stat=\"AB\">135,660</td><td class=\"right \" data-stat=\"H\">35,055</td><td class=\"right \" data-stat=\"HR\">3,612</td><td class=\"right \" data-stat=\"batting_avg\">.258</td><td class=\"right \" data-stat=\"RA\">18,389</td><td class=\"right \" data-stat=\"earned_run_avg\">4.27</td></tr>\n",
      "<tr class=\"partial_table\"><td csk=\"15.0006\"> </td><td class=\"zzzz\" colspan=\"21\"><span class=\"alternate_names\">       Also played as Florida Marlins</span></td></tr>\n",
      "<tr class=\" partial_table\" valign=\"top\"><td csk=\"15.0060\"> </td><td class=\"zzzz\" colspan=\"21\"><span class=\"moved_names\">Milwaukee Braves, see <a class=\"underline_text\" href=\"/teams/ATL/\">Atlanta Braves</a></span></td></tr>\n",
      "<tr><th class=\"right \" csk=\"16\" data-stat=\"ranker\" scope=\"row\">16</th><td class=\"left \" data-stat=\"franchise_name\"><a href=\"/teams/MIL/\">Milwaukee Brewers</a></td><td class=\"right \" data-stat=\"year_min\">1969</td><td class=\"right \" data-stat=\"year_max\">2017</td><td class=\"right \" data-stat=\"G\">7,809</td><td class=\"right \" data-stat=\"W\">3,728</td><td class=\"right \" data-stat=\"L\">4,077</td><td class=\"right \" csk=\"0.4776425360\" data-stat=\"win_loss_perc\">.478</td><td class=\"right \" data-stat=\"g_over_500\">-349</td><td class=\"right \" data-stat=\"divisions\">3</td><td class=\"right \" data-stat=\"pennants\">1</td><td class=\"right \" data-stat=\"world_series_titles\">0</td><td class=\"right \" data-stat=\"playoffs\">4</td><td class=\"right \" data-stat=\"players_number\">863</td><td class=\"right \" data-stat=\"HOFers\">6</td><td class=\"right \" data-stat=\"R\">34,567</td><td class=\"right \" data-stat=\"AB\">265,534</td><td class=\"right \" data-stat=\"H\">68,529</td><td class=\"right \" data-stat=\"HR\">7,367</td><td class=\"right \" data-stat=\"batting_avg\">.258</td><td class=\"right \" data-stat=\"RA\">35,831</td><td class=\"right \" data-stat=\"earned_run_avg\">4.18</td></tr>\n",
      "<tr class=\"partial_table\"><td csk=\"16.0007\"> </td><td class=\"zzzz\" colspan=\"21\"><span class=\"alternate_names\">       Also played as Seattle Pilots</span></td></tr>\n",
      "<tr class=\" partial_table\" valign=\"top\"><td csk=\"16.0070\"> </td><td class=\"zzzz\" colspan=\"21\"><span class=\"moved_names\">Milwaukee Brewers (1901), see <a class=\"underline_text\" href=\"/teams/BAL/\">Baltimore Orioles</a></span></td></tr>\n",
      "<tr><th class=\"right \" csk=\"17\" data-stat=\"ranker\" scope=\"row\">17</th><td class=\"left \" data-stat=\"franchise_name\"><a href=\"/teams/MIN/\">Minnesota Twins</a></td><td class=\"right \" data-stat=\"year_min\">1901</td><td class=\"right \" data-stat=\"year_max\">2017</td><td class=\"right \" data-stat=\"G\">18,291</td><td class=\"right \" data-stat=\"W\">8,724</td><td class=\"right \" data-stat=\"L\">9,458</td><td class=\"right \" csk=\"0.4798152010\" data-stat=\"win_loss_perc\">.480</td><td class=\"right \" data-stat=\"g_over_500\">-734</td><td class=\"right \" data-stat=\"divisions\">10</td><td class=\"right \" data-stat=\"pennants\">6</td><td class=\"right \" data-stat=\"world_series_titles\">3</td><td class=\"right \" data-stat=\"playoffs\">15</td><td class=\"right \" data-stat=\"players_number\">1651</td><td class=\"right \" data-stat=\"HOFers\">25</td><td class=\"right \" data-stat=\"R\">80,090</td><td class=\"right \" data-stat=\"AB\">624,143</td><td class=\"right \" data-stat=\"H\">164,155</td><td class=\"right \" data-stat=\"HR\">10,585</td><td class=\"right \" data-stat=\"batting_avg\">.263</td><td class=\"right \" data-stat=\"RA\">83,578</td><td class=\"right \" data-stat=\"earned_run_avg\">3.98</td></tr>\n",
      "<tr class=\"partial_table\"><td csk=\"17.0008\"> </td><td class=\"zzzz\" colspan=\"21\"><span class=\"alternate_names\">       Also played as Washington Senators</span></td></tr>\n",
      "<tr class=\" partial_table\" valign=\"top\"><td csk=\"17.0080\"> </td><td class=\"zzzz\" colspan=\"21\"><span class=\"moved_names\">Montreal Expos, see <a class=\"underline_text\" href=\"/teams/WSN/\">Washington Nationals</a></span></td></tr>\n",
      "<tr class=\" partial_table\" valign=\"top\"><td csk=\"17.0090\"> </td><td class=\"zzzz\" colspan=\"21\"><span class=\"moved_names\">New York Giants, see <a class=\"underline_text\" href=\"/teams/SFG/\">San Francisco Giants</a></span></td></tr>\n",
      "<tr><th class=\"right \" csk=\"18\" data-stat=\"ranker\" scope=\"row\">18</th><td class=\"left \" data-stat=\"franchise_name\"><a href=\"/teams/NYM/\">New York Mets</a></td><td class=\"right \" data-stat=\"year_min\">1962</td><td class=\"right \" data-stat=\"year_max\">2017</td><td class=\"right \" data-stat=\"G\">8,940</td><td class=\"right \" data-stat=\"W\">4,285</td><td class=\"right \" data-stat=\"L\">4,647</td><td class=\"right \" csk=\"0.4797357810\" data-stat=\"win_loss_perc\">.480</td><td class=\"right \" data-stat=\"g_over_500\">-362</td><td class=\"right \" data-stat=\"divisions\">6</td><td class=\"right \" data-stat=\"pennants\">5</td><td class=\"right \" data-stat=\"world_series_titles\">2</td><td class=\"right \" data-stat=\"playoffs\">9</td><td class=\"right \" data-stat=\"players_number\">1043</td><td class=\"right \" data-stat=\"HOFers\">15</td><td class=\"right \" data-stat=\"R\">36,480</td><td class=\"right \" data-stat=\"AB\">302,722</td><td class=\"right \" data-stat=\"H\">75,737</td><td class=\"right \" data-stat=\"HR\">7,259</td><td class=\"right \" data-stat=\"batting_avg\">.250</td><td class=\"right \" data-stat=\"RA\">37,503</td><td class=\"right \" data-stat=\"earned_run_avg\">3.78</td></tr>\n",
      "<tr><th class=\"right \" csk=\"19\" data-stat=\"ranker\" scope=\"row\">19</th><td class=\"left \" data-stat=\"franchise_name\"><a href=\"/teams/NYY/\">New York Yankees</a></td><td class=\"right \" data-stat=\"year_min\">1903</td><td class=\"right \" data-stat=\"year_max\">2017</td><td class=\"right \" data-stat=\"G\">17,982</td><td class=\"right \" data-stat=\"W\">10,175</td><td class=\"right \" data-stat=\"L\">7,719</td><td class=\"right \" csk=\"0.5686263550\" data-stat=\"win_loss_perc\">.569</td><td class=\"right \" data-stat=\"g_over_500\">2456</td><td class=\"right \" data-stat=\"divisions\">18</td><td class=\"right \" data-stat=\"pennants\">40</td><td class=\"right \" data-stat=\"world_series_titles\">27</td><td class=\"right \" data-stat=\"playoffs\">53</td><td class=\"right \" data-stat=\"players_number\">1658</td><td class=\"right \" data-stat=\"HOFers\">42</td><td class=\"right \" data-stat=\"R\">87,246</td><td class=\"right \" data-stat=\"AB\">613,539</td><td class=\"right \" data-stat=\"H\">163,585</td><td class=\"right \" data-stat=\"HR\">15,642</td><td class=\"right \" data-stat=\"batting_avg\">.267</td><td class=\"right \" data-stat=\"RA\">75,032</td><td class=\"right \" data-stat=\"earned_run_avg\">3.64</td></tr>\n",
      "<tr class=\"partial_table\"><td csk=\"19.0010\"> </td><td class=\"zzzz\" colspan=\"21\"><span class=\"alternate_names\">       Also played as New York Highlanders</span></td></tr>\n",
      "<tr><th class=\"right \" csk=\"20\" data-stat=\"ranker\" scope=\"row\">20</th><td class=\"left \" data-stat=\"franchise_name\"><a href=\"/teams/OAK/\">Oakland Athletics</a></td><td class=\"right \" data-stat=\"year_min\">1901</td><td class=\"right \" data-stat=\"year_max\">2017</td><td class=\"right \" data-stat=\"G\">18,243</td><td class=\"right \" data-stat=\"W\">8,834</td><td class=\"right \" data-stat=\"L\">9,322</td><td class=\"right \" csk=\"0.4865609160\" data-stat=\"win_loss_perc\">.487</td><td class=\"right \" data-stat=\"g_over_500\">-488</td><td class=\"right \" data-stat=\"divisions\">16</td><td class=\"right \" data-stat=\"pennants\">15</td><td class=\"right \" data-stat=\"world_series_titles\">9</td><td class=\"right \" data-stat=\"playoffs\">26</td><td class=\"right \" data-stat=\"players_number\">1932</td><td class=\"right \" data-stat=\"HOFers\">40</td><td class=\"right \" data-stat=\"R\">80,628</td><td class=\"right \" data-stat=\"AB\">618,821</td><td class=\"right \" data-stat=\"H\">160,068</td><td class=\"right \" data-stat=\"HR\">12,823</td><td class=\"right \" data-stat=\"batting_avg\">.259</td><td class=\"right \" data-stat=\"RA\">83,379</td><td class=\"right \" data-stat=\"earned_run_avg\">3.98</td></tr>\n",
      "<tr class=\"partial_table\"><td csk=\"20.0010\"> </td><td class=\"zzzz\" colspan=\"21\"><span class=\"alternate_names\">       Also played as Kansas City Athletics and Philadelphia Athletics</span></td></tr>\n",
      "<tr class=\" partial_table\" valign=\"top\"><td csk=\"20.0100\"> </td><td class=\"zzzz\" colspan=\"21\"><span class=\"moved_names\">Philadelphia Athletics, see <a class=\"underline_text\" href=\"/teams/OAK/\">Oakland Athletics</a></span></td></tr>\n",
      "<tr><th class=\"right \" csk=\"21\" data-stat=\"ranker\" scope=\"row\">21</th><td class=\"left \" data-stat=\"franchise_name\"><a href=\"/teams/PHI/\">Philadelphia Phillies</a></td><td class=\"right \" data-stat=\"year_min\">1883</td><td class=\"right \" data-stat=\"year_max\">2017</td><td class=\"right \" data-stat=\"G\">20,616</td><td class=\"right \" data-stat=\"W\">9,664</td><td class=\"right \" data-stat=\"L\">10,837</td><td class=\"right \" csk=\"0.4713916390\" data-stat=\"win_loss_perc\">.471</td><td class=\"right \" data-stat=\"g_over_500\">-1173</td><td class=\"right \" data-stat=\"divisions\">12</td><td class=\"right \" data-stat=\"pennants\">7</td><td class=\"right \" data-stat=\"world_series_titles\">2</td><td class=\"right \" data-stat=\"playoffs\">14</td><td class=\"right \" data-stat=\"players_number\">2036</td><td class=\"right \" data-stat=\"HOFers\">34</td><td class=\"right \" data-stat=\"R\">91,298</td><td class=\"right \" data-stat=\"AB\">705,852</td><td class=\"right \" data-stat=\"H\">184,227</td><td class=\"right \" data-stat=\"HR\">12,838</td><td class=\"right \" data-stat=\"batting_avg\">.261</td><td class=\"right \" data-stat=\"RA\">97,212</td><td class=\"right \" data-stat=\"earned_run_avg\">3.97</td></tr>\n",
      "<tr class=\"partial_table\"><td csk=\"21.0011\"> </td><td class=\"zzzz\" colspan=\"21\"><span class=\"alternate_names\">       Also played as Philadelphia Quakers</span></td></tr>\n",
      "<tr><th class=\"right \" csk=\"22\" data-stat=\"ranker\" scope=\"row\">22</th><td class=\"left \" data-stat=\"franchise_name\"><a href=\"/teams/PIT/\">Pittsburgh Pirates</a></td><td class=\"right \" data-stat=\"year_min\">1882</td><td class=\"right \" data-stat=\"year_max\">2017</td><td class=\"right \" data-stat=\"G\">20,767</td><td class=\"right \" data-stat=\"W\">10,394</td><td class=\"right \" data-stat=\"L\">10,233</td><td class=\"right \" csk=\"0.5039026510\" data-stat=\"win_loss_perc\">.504</td><td class=\"right \" data-stat=\"g_over_500\">161</td><td class=\"right \" data-stat=\"divisions\">9</td><td class=\"right \" data-stat=\"pennants\">9</td><td class=\"right \" data-stat=\"world_series_titles\">5</td><td class=\"right \" data-stat=\"playoffs\">17</td><td class=\"right \" data-stat=\"players_number\">1944</td><td class=\"right \" data-stat=\"HOFers\">40</td><td class=\"right \" data-stat=\"R\">92,794</td><td class=\"right \" data-stat=\"AB\">712,127</td><td class=\"right \" data-stat=\"H\">188,276</td><td class=\"right \" data-stat=\"HR\">11,239</td><td class=\"right \" data-stat=\"batting_avg\">.264</td><td class=\"right \" data-stat=\"RA\">92,139</td><td class=\"right \" data-stat=\"earned_run_avg\">3.72</td></tr>\n",
      "<tr class=\"partial_table\"><td csk=\"22.0011\"> </td><td class=\"zzzz\" colspan=\"21\"><span class=\"alternate_names\">       Also played as Pittsburgh Alleghenys</span></td></tr>\n",
      "<tr><th class=\"right \" csk=\"23\" data-stat=\"ranker\" scope=\"row\">23</th><td class=\"left \" data-stat=\"franchise_name\"><a href=\"/teams/SDP/\">San Diego Padres</a></td><td class=\"right \" data-stat=\"year_min\">1969</td><td class=\"right \" data-stat=\"year_max\">2017</td><td class=\"right \" data-stat=\"G\">7,814</td><td class=\"right \" data-stat=\"W\">3,611</td><td class=\"right \" data-stat=\"L\">4,201</td><td class=\"right \" csk=\"0.4622375830\" data-stat=\"win_loss_perc\">.462</td><td class=\"right \" data-stat=\"g_over_500\">-590</td><td class=\"right \" data-stat=\"divisions\">5</td><td class=\"right \" data-stat=\"pennants\">2</td><td class=\"right \" data-stat=\"world_series_titles\">0</td><td class=\"right \" data-stat=\"playoffs\">5</td><td class=\"right \" data-stat=\"players_number\">977</td><td class=\"right \" data-stat=\"HOFers\">12</td><td class=\"right \" data-stat=\"R\">31,276</td><td class=\"right \" data-stat=\"AB\">264,444</td><td class=\"right \" data-stat=\"H\">66,100</td><td class=\"right \" data-stat=\"HR\">6,014</td><td class=\"right \" data-stat=\"batting_avg\">.250</td><td class=\"right \" data-stat=\"RA\">34,235</td><td class=\"right \" data-stat=\"earned_run_avg\">3.95</td></tr>\n",
      "<tr><th class=\"right \" csk=\"24\" data-stat=\"ranker\" scope=\"row\">24</th><td class=\"left \" data-stat=\"franchise_name\"><a href=\"/teams/SFG/\">San Francisco Giants</a></td><td class=\"right \" data-stat=\"year_min\">1883</td><td class=\"right \" data-stat=\"year_max\">2017</td><td class=\"right \" data-stat=\"G\">20,691</td><td class=\"right \" data-stat=\"W\">11,015</td><td class=\"right \" data-stat=\"L\">9,513</td><td class=\"right \" csk=\"0.5365841770\" data-stat=\"win_loss_perc\">.537</td><td class=\"right \" data-stat=\"g_over_500\">1502</td><td class=\"right \" data-stat=\"divisions\">8</td><td class=\"right \" data-stat=\"pennants\">23</td><td class=\"right \" data-stat=\"world_series_titles\">8</td><td class=\"right \" data-stat=\"playoffs\">28</td><td class=\"right \" data-stat=\"players_number\">1756</td><td class=\"right \" data-stat=\"HOFers\">57</td><td class=\"right \" data-stat=\"R\">95,987</td><td class=\"right \" data-stat=\"AB\">706,579</td><td class=\"right \" data-stat=\"H\">186,683</td><td class=\"right \" data-stat=\"HR\">14,382</td><td class=\"right \" data-stat=\"batting_avg\">.264</td><td class=\"right \" data-stat=\"RA\">88,534</td><td class=\"right \" data-stat=\"earned_run_avg\">3.56</td></tr>\n",
      "<tr class=\"partial_table\"><td csk=\"24.0011\"> </td><td class=\"zzzz\" colspan=\"21\"><span class=\"alternate_names\">       Also played as New York Giants and New York Gothams</span></td></tr>\n",
      "<tr><th class=\"right \" csk=\"25\" data-stat=\"ranker\" scope=\"row\">25</th><td class=\"left \" data-stat=\"franchise_name\"><a href=\"/teams/SEA/\">Seattle Mariners</a></td><td class=\"right \" data-stat=\"year_min\">1977</td><td class=\"right \" data-stat=\"year_max\">2017</td><td class=\"right \" data-stat=\"G\">6,519</td><td class=\"right \" data-stat=\"W\">3,062</td><td class=\"right \" data-stat=\"L\">3,455</td><td class=\"right \" csk=\"0.4698480890\" data-stat=\"win_loss_perc\">.470</td><td class=\"right \" data-stat=\"g_over_500\">-393</td><td class=\"right \" data-stat=\"divisions\">3</td><td class=\"right \" data-stat=\"pennants\">0</td><td class=\"right \" data-stat=\"world_series_titles\">0</td><td class=\"right \" data-stat=\"playoffs\">4</td><td class=\"right \" data-stat=\"players_number\">799</td><td class=\"right \" data-stat=\"HOFers\">5</td><td class=\"right \" data-stat=\"R\">29,008</td><td class=\"right \" data-stat=\"AB\">223,087</td><td class=\"right \" data-stat=\"H\">58,102</td><td class=\"right \" data-stat=\"HR\">6,399</td><td class=\"right \" data-stat=\"batting_avg\">.260</td><td class=\"right \" data-stat=\"RA\">30,633</td><td class=\"right \" data-stat=\"earned_run_avg\">4.32</td></tr>\n",
      "<tr class=\" partial_table\" valign=\"top\"><td csk=\"25.0110\"> </td><td class=\"zzzz\" colspan=\"21\"><span class=\"moved_names\">Seattle Pilots, see <a class=\"underline_text\" href=\"/teams/MIL/\">Milwaukee Brewers</a></span></td></tr>\n",
      "<tr class=\" partial_table\" valign=\"top\"><td csk=\"25.0120\"> </td><td class=\"zzzz\" colspan=\"21\"><span class=\"moved_names\">St. Louis Browns, see <a class=\"underline_text\" href=\"/teams/BAL/\">Baltimore Orioles</a></span></td></tr>\n",
      "<tr><th class=\"right \" csk=\"26\" data-stat=\"ranker\" scope=\"row\">26</th><td class=\"left \" data-stat=\"franchise_name\"><a href=\"/teams/STL/\">St. Louis Cardinals</a></td><td class=\"right \" data-stat=\"year_min\">1882</td><td class=\"right \" data-stat=\"year_max\">2017</td><td class=\"right \" data-stat=\"G\">20,809</td><td class=\"right \" data-stat=\"W\">10,739</td><td class=\"right \" data-stat=\"L\">9,918</td><td class=\"right \" csk=\"0.5198721980\" data-stat=\"win_loss_perc\">.520</td><td class=\"right \" data-stat=\"g_over_500\">821</td><td class=\"right \" data-stat=\"divisions\">13</td><td class=\"right \" data-stat=\"pennants\">23</td><td class=\"right \" data-stat=\"world_series_titles\">11</td><td class=\"right \" data-stat=\"playoffs\">32</td><td class=\"right \" data-stat=\"players_number\">2092</td><td class=\"right \" data-stat=\"HOFers\">44</td><td class=\"right \" data-stat=\"R\">95,483</td><td class=\"right \" data-stat=\"AB\">714,072</td><td class=\"right \" data-stat=\"H\">190,332</td><td class=\"right \" data-stat=\"HR\">11,884</td><td class=\"right \" data-stat=\"batting_avg\">.267</td><td class=\"right \" data-stat=\"RA\">91,735</td><td class=\"right \" data-stat=\"earned_run_avg\">3.67</td></tr>\n",
      "<tr class=\"partial_table\"><td csk=\"26.0013\"> </td><td class=\"zzzz\" colspan=\"21\"><span class=\"alternate_names\">       Also played as St. Louis Perfectos, St. Louis Browns and St. Louis Brown Stockings</span></td></tr>\n",
      "<tr><th class=\"right \" csk=\"27\" data-stat=\"ranker\" scope=\"row\">27</th><td class=\"left \" data-stat=\"franchise_name\"><a href=\"/teams/TBD/\">Tampa Bay Rays</a></td><td class=\"right \" data-stat=\"year_min\">1998</td><td class=\"right \" data-stat=\"year_max\">2017</td><td class=\"right \" data-stat=\"G\">3,238</td><td class=\"right \" data-stat=\"W\">1,500</td><td class=\"right \" data-stat=\"L\">1,738</td><td class=\"right \" csk=\"0.4632489190\" data-stat=\"win_loss_perc\">.463</td><td class=\"right \" data-stat=\"g_over_500\">-238</td><td class=\"right \" data-stat=\"divisions\">2</td><td class=\"right \" data-stat=\"pennants\">1</td><td class=\"right \" data-stat=\"world_series_titles\">0</td><td class=\"right \" data-stat=\"playoffs\">4</td><td class=\"right \" data-stat=\"players_number\">435</td><td class=\"right \" data-stat=\"HOFers\">1</td><td class=\"right \" data-stat=\"R\">14,225</td><td class=\"right \" data-stat=\"AB\">110,304</td><td class=\"right \" data-stat=\"H\">28,245</td><td class=\"right \" data-stat=\"HR\">3,267</td><td class=\"right \" data-stat=\"batting_avg\">.256</td><td class=\"right \" data-stat=\"RA\">15,336</td><td class=\"right \" data-stat=\"earned_run_avg\">4.40</td></tr>\n",
      "<tr class=\"partial_table\"><td csk=\"27.0013\"> </td><td class=\"zzzz\" colspan=\"21\"><span class=\"alternate_names\">       Also played as Tampa Bay Devil Rays</span></td></tr>\n",
      "<tr><th class=\"right \" csk=\"28\" data-stat=\"ranker\" scope=\"row\">28</th><td class=\"left \" data-stat=\"franchise_name\"><a href=\"/teams/TEX/\">Texas Rangers</a></td><td class=\"right \" data-stat=\"year_min\">1961</td><td class=\"right \" data-stat=\"year_max\">2017</td><td class=\"right \" data-stat=\"G\">9,094</td><td class=\"right \" data-stat=\"W\">4,355</td><td class=\"right \" data-stat=\"L\">4,733</td><td class=\"right \" csk=\"0.4792033450\" data-stat=\"win_loss_perc\">.479</td><td class=\"right \" data-stat=\"g_over_500\">-378</td><td class=\"right \" data-stat=\"divisions\">7</td><td class=\"right \" data-stat=\"pennants\">2</td><td class=\"right \" data-stat=\"world_series_titles\">0</td><td class=\"right \" data-stat=\"playoffs\">8</td><td class=\"right \" data-stat=\"players_number\">1081</td><td class=\"right \" data-stat=\"HOFers\">7</td><td class=\"right \" data-stat=\"R\">40,943</td><td class=\"right \" data-stat=\"AB\">310,878</td><td class=\"right \" data-stat=\"H\">80,791</td><td class=\"right \" data-stat=\"HR\">8,894</td><td class=\"right \" data-stat=\"batting_avg\">.260</td><td class=\"right \" data-stat=\"RA\">42,642</td><td class=\"right \" data-stat=\"earned_run_avg\">4.25</td></tr>\n",
      "<tr class=\"partial_table\"><td csk=\"28.0013\"> </td><td class=\"zzzz\" colspan=\"21\"><span class=\"alternate_names\">       Also played as Washington Senators</span></td></tr>\n",
      "<tr><th class=\"right \" csk=\"29\" data-stat=\"ranker\" scope=\"row\">29</th><td class=\"left \" data-stat=\"franchise_name\"><a href=\"/teams/TOR/\">Toronto Blue Jays</a></td><td class=\"right \" data-stat=\"year_min\">1977</td><td class=\"right \" data-stat=\"year_max\">2017</td><td class=\"right \" data-stat=\"G\">6,520</td><td class=\"right \" data-stat=\"W\">3,243</td><td class=\"right \" data-stat=\"L\">3,274</td><td class=\"right \" csk=\"0.4976216050\" data-stat=\"win_loss_perc\">.498</td><td class=\"right \" data-stat=\"g_over_500\">-31</td><td class=\"right \" data-stat=\"divisions\">6</td><td class=\"right \" data-stat=\"pennants\">2</td><td class=\"right \" data-stat=\"world_series_titles\">2</td><td class=\"right \" data-stat=\"playoffs\">7</td><td class=\"right \" data-stat=\"players_number\">745</td><td class=\"right \" data-stat=\"HOFers\">7</td><td class=\"right \" data-stat=\"R\">30,164</td><td class=\"right \" data-stat=\"AB\">223,779</td><td class=\"right \" data-stat=\"H\">58,515</td><td class=\"right \" data-stat=\"HR\">6,858</td><td class=\"right \" data-stat=\"batting_avg\">.261</td><td class=\"right \" data-stat=\"RA\">29,825</td><td class=\"right \" data-stat=\"earned_run_avg\">4.21</td></tr>\n",
      "<tr><th class=\"right \" csk=\"30\" data-stat=\"ranker\" scope=\"row\">30</th><td class=\"left \" data-stat=\"franchise_name\"><a href=\"/teams/WSN/\">Washington Nationals</a></td><td class=\"right \" data-stat=\"year_min\">1969</td><td class=\"right \" data-stat=\"year_max\">2017</td><td class=\"right \" data-stat=\"G\">7,806</td><td class=\"right \" data-stat=\"W\">3,802</td><td class=\"right \" data-stat=\"L\">4,000</td><td class=\"right \" csk=\"0.4873109450\" data-stat=\"win_loss_perc\">.487</td><td class=\"right \" data-stat=\"g_over_500\">-198</td><td class=\"right \" data-stat=\"divisions\">5</td><td class=\"right \" data-stat=\"pennants\">0</td><td class=\"right \" data-stat=\"world_series_titles\">0</td><td class=\"right \" data-stat=\"playoffs\">5</td><td class=\"right \" data-stat=\"players_number\">905</td><td class=\"right \" data-stat=\"HOFers\">8</td><td class=\"right \" data-stat=\"R\">32,396</td><td class=\"right \" data-stat=\"AB\">264,231</td><td class=\"right \" data-stat=\"H\">67,045</td><td class=\"right \" data-stat=\"HR\">6,463</td><td class=\"right \" data-stat=\"batting_avg\">.254</td><td class=\"right \" data-stat=\"RA\">33,458</td><td class=\"right \" data-stat=\"earned_run_avg\">3.87</td></tr>\n",
      "<tr class=\"partial_table\"><td csk=\"30.0013\"> </td><td class=\"zzzz\" colspan=\"21\"><span class=\"alternate_names\">       Also played as Montreal Expos</span></td></tr>\n",
      "<tr class=\"no_mobile partial_table\" valign=\"top\"><td csk=\"30.0130\"> </td><td class=\"zzzz\" colspan=\"21\"><span class=\"moved_names\">Washington Senators (1901-1960), see <a class=\"underline_text\" href=\"/teams/MIN/\">Minnesota Twins</a></span></td></tr>\n",
      "<tr class=\"no_mobile partial_table\" valign=\"top\"><td csk=\"30.0140\"> </td><td class=\"zzzz\" colspan=\"21\"><span class=\"moved_names\">Washington Senators (1961-1971), see <a class=\"underline_text\" href=\"/teams/TEX/\">Texas Rangers</a></span></td></tr>\n",
      "</tbody></table>\n"
     ]
    }
   ],
   "source": [
    "teams_url = 'https://www.baseball-reference.com/teams/'\n",
    "r = get_response(teams_url)\n",
    "html = get_response(teams_url).text\n",
    "soup = BeautifulSoup(html, 'lxml')\n",
    "for table in soup.select(\"table\"):\n",
    "    if table['id'] == 'teams_active':\n",
    "        active_teams_table = table\n",
    "print(active_teams_table)\n"
   ]
  },
  {
   "cell_type": "code",
   "execution_count": 69,
   "metadata": {},
   "outputs": [
    {
     "name": "stdout",
     "output_type": "stream",
     "text": [
      "INSERT INTO teams (name, code) VALUES ('Arizona Diamondbacks', 'ARI');\n",
      "INSERT INTO teams (name, code) VALUES ('Atlanta Braves', 'ATL');\n",
      "INSERT INTO teams (name, code) VALUES ('Baltimore Orioles', 'BAL');\n",
      "INSERT INTO teams (name, code) VALUES ('Boston Red Sox', 'BOS');\n",
      "INSERT INTO teams (name, code) VALUES ('Chicago Cubs', 'CHC');\n",
      "INSERT INTO teams (name, code) VALUES ('Chicago White Sox', 'CHW');\n",
      "INSERT INTO teams (name, code) VALUES ('Cincinnati Reds', 'CIN');\n",
      "INSERT INTO teams (name, code) VALUES ('Cleveland Indians', 'CLE');\n",
      "INSERT INTO teams (name, code) VALUES ('Colorado Rockies', 'COL');\n",
      "INSERT INTO teams (name, code) VALUES ('Detroit Tigers', 'DET');\n",
      "INSERT INTO teams (name, code) VALUES ('Houston Astros', 'HOU');\n",
      "INSERT INTO teams (name, code) VALUES ('Kansas City Royals', 'KCR');\n",
      "INSERT INTO teams (name, code) VALUES ('Los Angeles Angels', 'ANA');\n",
      "INSERT INTO teams (name, code) VALUES ('Los Angeles Dodgers', 'LAD');\n",
      "INSERT INTO teams (name, code) VALUES ('Miami Marlins', 'FLA');\n",
      "INSERT INTO teams (name, code) VALUES ('Milwaukee Brewers', 'MIL');\n",
      "INSERT INTO teams (name, code) VALUES ('Minnesota Twins', 'MIN');\n",
      "INSERT INTO teams (name, code) VALUES ('New York Mets', 'NYM');\n",
      "INSERT INTO teams (name, code) VALUES ('New York Yankees', 'NYY');\n",
      "INSERT INTO teams (name, code) VALUES ('Oakland Athletics', 'OAK');\n",
      "INSERT INTO teams (name, code) VALUES ('Philadelphia Phillies', 'PHI');\n",
      "INSERT INTO teams (name, code) VALUES ('Pittsburgh Pirates', 'PIT');\n",
      "INSERT INTO teams (name, code) VALUES ('San Diego Padres', 'SDP');\n",
      "INSERT INTO teams (name, code) VALUES ('San Francisco Giants', 'SFG');\n",
      "INSERT INTO teams (name, code) VALUES ('Seattle Mariners', 'SEA');\n",
      "INSERT INTO teams (name, code) VALUES ('St. Louis Cardinals', 'STL');\n",
      "INSERT INTO teams (name, code) VALUES ('Tampa Bay Rays', 'TBD');\n",
      "INSERT INTO teams (name, code) VALUES ('Texas Rangers', 'TEX');\n",
      "INSERT INTO teams (name, code) VALUES ('Toronto Blue Jays', 'TOR');\n",
      "INSERT INTO teams (name, code) VALUES ('Washington Nationals', 'WSN');\n"
     ]
    }
   ],
   "source": [
    "teams = active_teams_table.find_all(\"td\", attrs={'class':'left ', 'data-stat':'franchise_name'})\n",
    "# active franchises\n",
    "team_codes = []\n",
    "for team in teams:\n",
    "    team_name = team.text\n",
    "    a = team.find(\"a\")\n",
    "    team_path = a['href']\n",
    "    team_code = team_path.replace('/teams/', '').replace('/','')\n",
    "    team_codes.append(team_code)\n",
    "    sql = \"INSERT INTO teams (name, code) VALUES ('{0}', '{1}');\".format(team_name, team_code)\n",
    "    print(sql)\n",
    "    run_query(sql)\n",
    "#     print(team_code, \": \", team_name)\n",
    "    \n",
    "#     print(team)"
   ]
  },
  {
   "cell_type": "code",
   "execution_count": 32,
   "metadata": {},
   "outputs": [
    {
     "data": {
      "text/plain": [
       "30"
      ]
     },
     "execution_count": 32,
     "metadata": {},
     "output_type": "execute_result"
    }
   ],
   "source": [
    "teams[0].text\n",
    "len(teams)"
   ]
  },
  {
   "cell_type": "code",
   "execution_count": 33,
   "metadata": {},
   "outputs": [
    {
     "name": "stdout",
     "output_type": "stream",
     "text": [
      "['ARI', 'ATL', 'BAL', 'BOS', 'CHC', 'CHW', 'CIN', 'CLE', 'COL', 'DET', 'HOU', 'KCR', 'ANA', 'LAD', 'FLA', 'MIL', 'MIN', 'NYM', 'NYY', 'OAK', 'PHI', 'PIT', 'SDP', 'SFG', 'SEA', 'STL', 'TBD', 'TEX', 'TOR', 'WSN']\n"
     ]
    }
   ],
   "source": [
    "print(team_codes)\n",
    "# https://www.baseball-reference.com/teams/SEA/2017-roster.shtml\n",
    "years = range(2008, 2018)"
   ]
  },
  {
   "cell_type": "code",
   "execution_count": 34,
   "metadata": {},
   "outputs": [],
   "source": [
    "list(years)\n",
    "urls = []\n",
    "for code in team_codes:\n",
    "    for year in years:\n",
    "        urls.append(\"https://www.baseball-reference.com/teams/{0}/{1}-roster.shtml\".format(code, year))\n",
    "        "
   ]
  },
  {
   "cell_type": "code",
   "execution_count": 35,
   "metadata": {},
   "outputs": [
    {
     "data": {
      "text/plain": [
       "['https://www.baseball-reference.com/teams/ARI/2008-roster.shtml',\n",
       " 'https://www.baseball-reference.com/teams/ARI/2009-roster.shtml',\n",
       " 'https://www.baseball-reference.com/teams/ARI/2010-roster.shtml',\n",
       " 'https://www.baseball-reference.com/teams/ARI/2011-roster.shtml',\n",
       " 'https://www.baseball-reference.com/teams/ARI/2012-roster.shtml',\n",
       " 'https://www.baseball-reference.com/teams/ARI/2013-roster.shtml',\n",
       " 'https://www.baseball-reference.com/teams/ARI/2014-roster.shtml',\n",
       " 'https://www.baseball-reference.com/teams/ARI/2015-roster.shtml',\n",
       " 'https://www.baseball-reference.com/teams/ARI/2016-roster.shtml',\n",
       " 'https://www.baseball-reference.com/teams/ARI/2017-roster.shtml',\n",
       " 'https://www.baseball-reference.com/teams/ATL/2008-roster.shtml',\n",
       " 'https://www.baseball-reference.com/teams/ATL/2009-roster.shtml',\n",
       " 'https://www.baseball-reference.com/teams/ATL/2010-roster.shtml',\n",
       " 'https://www.baseball-reference.com/teams/ATL/2011-roster.shtml',\n",
       " 'https://www.baseball-reference.com/teams/ATL/2012-roster.shtml',\n",
       " 'https://www.baseball-reference.com/teams/ATL/2013-roster.shtml',\n",
       " 'https://www.baseball-reference.com/teams/ATL/2014-roster.shtml',\n",
       " 'https://www.baseball-reference.com/teams/ATL/2015-roster.shtml',\n",
       " 'https://www.baseball-reference.com/teams/ATL/2016-roster.shtml',\n",
       " 'https://www.baseball-reference.com/teams/ATL/2017-roster.shtml',\n",
       " 'https://www.baseball-reference.com/teams/BAL/2008-roster.shtml',\n",
       " 'https://www.baseball-reference.com/teams/BAL/2009-roster.shtml',\n",
       " 'https://www.baseball-reference.com/teams/BAL/2010-roster.shtml',\n",
       " 'https://www.baseball-reference.com/teams/BAL/2011-roster.shtml',\n",
       " 'https://www.baseball-reference.com/teams/BAL/2012-roster.shtml',\n",
       " 'https://www.baseball-reference.com/teams/BAL/2013-roster.shtml',\n",
       " 'https://www.baseball-reference.com/teams/BAL/2014-roster.shtml',\n",
       " 'https://www.baseball-reference.com/teams/BAL/2015-roster.shtml',\n",
       " 'https://www.baseball-reference.com/teams/BAL/2016-roster.shtml',\n",
       " 'https://www.baseball-reference.com/teams/BAL/2017-roster.shtml',\n",
       " 'https://www.baseball-reference.com/teams/BOS/2008-roster.shtml',\n",
       " 'https://www.baseball-reference.com/teams/BOS/2009-roster.shtml',\n",
       " 'https://www.baseball-reference.com/teams/BOS/2010-roster.shtml',\n",
       " 'https://www.baseball-reference.com/teams/BOS/2011-roster.shtml',\n",
       " 'https://www.baseball-reference.com/teams/BOS/2012-roster.shtml',\n",
       " 'https://www.baseball-reference.com/teams/BOS/2013-roster.shtml',\n",
       " 'https://www.baseball-reference.com/teams/BOS/2014-roster.shtml',\n",
       " 'https://www.baseball-reference.com/teams/BOS/2015-roster.shtml',\n",
       " 'https://www.baseball-reference.com/teams/BOS/2016-roster.shtml',\n",
       " 'https://www.baseball-reference.com/teams/BOS/2017-roster.shtml',\n",
       " 'https://www.baseball-reference.com/teams/CHC/2008-roster.shtml',\n",
       " 'https://www.baseball-reference.com/teams/CHC/2009-roster.shtml',\n",
       " 'https://www.baseball-reference.com/teams/CHC/2010-roster.shtml',\n",
       " 'https://www.baseball-reference.com/teams/CHC/2011-roster.shtml',\n",
       " 'https://www.baseball-reference.com/teams/CHC/2012-roster.shtml',\n",
       " 'https://www.baseball-reference.com/teams/CHC/2013-roster.shtml',\n",
       " 'https://www.baseball-reference.com/teams/CHC/2014-roster.shtml',\n",
       " 'https://www.baseball-reference.com/teams/CHC/2015-roster.shtml',\n",
       " 'https://www.baseball-reference.com/teams/CHC/2016-roster.shtml',\n",
       " 'https://www.baseball-reference.com/teams/CHC/2017-roster.shtml',\n",
       " 'https://www.baseball-reference.com/teams/CHW/2008-roster.shtml',\n",
       " 'https://www.baseball-reference.com/teams/CHW/2009-roster.shtml',\n",
       " 'https://www.baseball-reference.com/teams/CHW/2010-roster.shtml',\n",
       " 'https://www.baseball-reference.com/teams/CHW/2011-roster.shtml',\n",
       " 'https://www.baseball-reference.com/teams/CHW/2012-roster.shtml',\n",
       " 'https://www.baseball-reference.com/teams/CHW/2013-roster.shtml',\n",
       " 'https://www.baseball-reference.com/teams/CHW/2014-roster.shtml',\n",
       " 'https://www.baseball-reference.com/teams/CHW/2015-roster.shtml',\n",
       " 'https://www.baseball-reference.com/teams/CHW/2016-roster.shtml',\n",
       " 'https://www.baseball-reference.com/teams/CHW/2017-roster.shtml',\n",
       " 'https://www.baseball-reference.com/teams/CIN/2008-roster.shtml',\n",
       " 'https://www.baseball-reference.com/teams/CIN/2009-roster.shtml',\n",
       " 'https://www.baseball-reference.com/teams/CIN/2010-roster.shtml',\n",
       " 'https://www.baseball-reference.com/teams/CIN/2011-roster.shtml',\n",
       " 'https://www.baseball-reference.com/teams/CIN/2012-roster.shtml',\n",
       " 'https://www.baseball-reference.com/teams/CIN/2013-roster.shtml',\n",
       " 'https://www.baseball-reference.com/teams/CIN/2014-roster.shtml',\n",
       " 'https://www.baseball-reference.com/teams/CIN/2015-roster.shtml',\n",
       " 'https://www.baseball-reference.com/teams/CIN/2016-roster.shtml',\n",
       " 'https://www.baseball-reference.com/teams/CIN/2017-roster.shtml',\n",
       " 'https://www.baseball-reference.com/teams/CLE/2008-roster.shtml',\n",
       " 'https://www.baseball-reference.com/teams/CLE/2009-roster.shtml',\n",
       " 'https://www.baseball-reference.com/teams/CLE/2010-roster.shtml',\n",
       " 'https://www.baseball-reference.com/teams/CLE/2011-roster.shtml',\n",
       " 'https://www.baseball-reference.com/teams/CLE/2012-roster.shtml',\n",
       " 'https://www.baseball-reference.com/teams/CLE/2013-roster.shtml',\n",
       " 'https://www.baseball-reference.com/teams/CLE/2014-roster.shtml',\n",
       " 'https://www.baseball-reference.com/teams/CLE/2015-roster.shtml',\n",
       " 'https://www.baseball-reference.com/teams/CLE/2016-roster.shtml',\n",
       " 'https://www.baseball-reference.com/teams/CLE/2017-roster.shtml',\n",
       " 'https://www.baseball-reference.com/teams/COL/2008-roster.shtml',\n",
       " 'https://www.baseball-reference.com/teams/COL/2009-roster.shtml',\n",
       " 'https://www.baseball-reference.com/teams/COL/2010-roster.shtml',\n",
       " 'https://www.baseball-reference.com/teams/COL/2011-roster.shtml',\n",
       " 'https://www.baseball-reference.com/teams/COL/2012-roster.shtml',\n",
       " 'https://www.baseball-reference.com/teams/COL/2013-roster.shtml',\n",
       " 'https://www.baseball-reference.com/teams/COL/2014-roster.shtml',\n",
       " 'https://www.baseball-reference.com/teams/COL/2015-roster.shtml',\n",
       " 'https://www.baseball-reference.com/teams/COL/2016-roster.shtml',\n",
       " 'https://www.baseball-reference.com/teams/COL/2017-roster.shtml',\n",
       " 'https://www.baseball-reference.com/teams/DET/2008-roster.shtml',\n",
       " 'https://www.baseball-reference.com/teams/DET/2009-roster.shtml',\n",
       " 'https://www.baseball-reference.com/teams/DET/2010-roster.shtml',\n",
       " 'https://www.baseball-reference.com/teams/DET/2011-roster.shtml',\n",
       " 'https://www.baseball-reference.com/teams/DET/2012-roster.shtml',\n",
       " 'https://www.baseball-reference.com/teams/DET/2013-roster.shtml',\n",
       " 'https://www.baseball-reference.com/teams/DET/2014-roster.shtml',\n",
       " 'https://www.baseball-reference.com/teams/DET/2015-roster.shtml',\n",
       " 'https://www.baseball-reference.com/teams/DET/2016-roster.shtml',\n",
       " 'https://www.baseball-reference.com/teams/DET/2017-roster.shtml',\n",
       " 'https://www.baseball-reference.com/teams/HOU/2008-roster.shtml',\n",
       " 'https://www.baseball-reference.com/teams/HOU/2009-roster.shtml',\n",
       " 'https://www.baseball-reference.com/teams/HOU/2010-roster.shtml',\n",
       " 'https://www.baseball-reference.com/teams/HOU/2011-roster.shtml',\n",
       " 'https://www.baseball-reference.com/teams/HOU/2012-roster.shtml',\n",
       " 'https://www.baseball-reference.com/teams/HOU/2013-roster.shtml',\n",
       " 'https://www.baseball-reference.com/teams/HOU/2014-roster.shtml',\n",
       " 'https://www.baseball-reference.com/teams/HOU/2015-roster.shtml',\n",
       " 'https://www.baseball-reference.com/teams/HOU/2016-roster.shtml',\n",
       " 'https://www.baseball-reference.com/teams/HOU/2017-roster.shtml',\n",
       " 'https://www.baseball-reference.com/teams/KCR/2008-roster.shtml',\n",
       " 'https://www.baseball-reference.com/teams/KCR/2009-roster.shtml',\n",
       " 'https://www.baseball-reference.com/teams/KCR/2010-roster.shtml',\n",
       " 'https://www.baseball-reference.com/teams/KCR/2011-roster.shtml',\n",
       " 'https://www.baseball-reference.com/teams/KCR/2012-roster.shtml',\n",
       " 'https://www.baseball-reference.com/teams/KCR/2013-roster.shtml',\n",
       " 'https://www.baseball-reference.com/teams/KCR/2014-roster.shtml',\n",
       " 'https://www.baseball-reference.com/teams/KCR/2015-roster.shtml',\n",
       " 'https://www.baseball-reference.com/teams/KCR/2016-roster.shtml',\n",
       " 'https://www.baseball-reference.com/teams/KCR/2017-roster.shtml',\n",
       " 'https://www.baseball-reference.com/teams/ANA/2008-roster.shtml',\n",
       " 'https://www.baseball-reference.com/teams/ANA/2009-roster.shtml',\n",
       " 'https://www.baseball-reference.com/teams/ANA/2010-roster.shtml',\n",
       " 'https://www.baseball-reference.com/teams/ANA/2011-roster.shtml',\n",
       " 'https://www.baseball-reference.com/teams/ANA/2012-roster.shtml',\n",
       " 'https://www.baseball-reference.com/teams/ANA/2013-roster.shtml',\n",
       " 'https://www.baseball-reference.com/teams/ANA/2014-roster.shtml',\n",
       " 'https://www.baseball-reference.com/teams/ANA/2015-roster.shtml',\n",
       " 'https://www.baseball-reference.com/teams/ANA/2016-roster.shtml',\n",
       " 'https://www.baseball-reference.com/teams/ANA/2017-roster.shtml',\n",
       " 'https://www.baseball-reference.com/teams/LAD/2008-roster.shtml',\n",
       " 'https://www.baseball-reference.com/teams/LAD/2009-roster.shtml',\n",
       " 'https://www.baseball-reference.com/teams/LAD/2010-roster.shtml',\n",
       " 'https://www.baseball-reference.com/teams/LAD/2011-roster.shtml',\n",
       " 'https://www.baseball-reference.com/teams/LAD/2012-roster.shtml',\n",
       " 'https://www.baseball-reference.com/teams/LAD/2013-roster.shtml',\n",
       " 'https://www.baseball-reference.com/teams/LAD/2014-roster.shtml',\n",
       " 'https://www.baseball-reference.com/teams/LAD/2015-roster.shtml',\n",
       " 'https://www.baseball-reference.com/teams/LAD/2016-roster.shtml',\n",
       " 'https://www.baseball-reference.com/teams/LAD/2017-roster.shtml',\n",
       " 'https://www.baseball-reference.com/teams/FLA/2008-roster.shtml',\n",
       " 'https://www.baseball-reference.com/teams/FLA/2009-roster.shtml',\n",
       " 'https://www.baseball-reference.com/teams/FLA/2010-roster.shtml',\n",
       " 'https://www.baseball-reference.com/teams/FLA/2011-roster.shtml',\n",
       " 'https://www.baseball-reference.com/teams/FLA/2012-roster.shtml',\n",
       " 'https://www.baseball-reference.com/teams/FLA/2013-roster.shtml',\n",
       " 'https://www.baseball-reference.com/teams/FLA/2014-roster.shtml',\n",
       " 'https://www.baseball-reference.com/teams/FLA/2015-roster.shtml',\n",
       " 'https://www.baseball-reference.com/teams/FLA/2016-roster.shtml',\n",
       " 'https://www.baseball-reference.com/teams/FLA/2017-roster.shtml',\n",
       " 'https://www.baseball-reference.com/teams/MIL/2008-roster.shtml',\n",
       " 'https://www.baseball-reference.com/teams/MIL/2009-roster.shtml',\n",
       " 'https://www.baseball-reference.com/teams/MIL/2010-roster.shtml',\n",
       " 'https://www.baseball-reference.com/teams/MIL/2011-roster.shtml',\n",
       " 'https://www.baseball-reference.com/teams/MIL/2012-roster.shtml',\n",
       " 'https://www.baseball-reference.com/teams/MIL/2013-roster.shtml',\n",
       " 'https://www.baseball-reference.com/teams/MIL/2014-roster.shtml',\n",
       " 'https://www.baseball-reference.com/teams/MIL/2015-roster.shtml',\n",
       " 'https://www.baseball-reference.com/teams/MIL/2016-roster.shtml',\n",
       " 'https://www.baseball-reference.com/teams/MIL/2017-roster.shtml',\n",
       " 'https://www.baseball-reference.com/teams/MIN/2008-roster.shtml',\n",
       " 'https://www.baseball-reference.com/teams/MIN/2009-roster.shtml',\n",
       " 'https://www.baseball-reference.com/teams/MIN/2010-roster.shtml',\n",
       " 'https://www.baseball-reference.com/teams/MIN/2011-roster.shtml',\n",
       " 'https://www.baseball-reference.com/teams/MIN/2012-roster.shtml',\n",
       " 'https://www.baseball-reference.com/teams/MIN/2013-roster.shtml',\n",
       " 'https://www.baseball-reference.com/teams/MIN/2014-roster.shtml',\n",
       " 'https://www.baseball-reference.com/teams/MIN/2015-roster.shtml',\n",
       " 'https://www.baseball-reference.com/teams/MIN/2016-roster.shtml',\n",
       " 'https://www.baseball-reference.com/teams/MIN/2017-roster.shtml',\n",
       " 'https://www.baseball-reference.com/teams/NYM/2008-roster.shtml',\n",
       " 'https://www.baseball-reference.com/teams/NYM/2009-roster.shtml',\n",
       " 'https://www.baseball-reference.com/teams/NYM/2010-roster.shtml',\n",
       " 'https://www.baseball-reference.com/teams/NYM/2011-roster.shtml',\n",
       " 'https://www.baseball-reference.com/teams/NYM/2012-roster.shtml',\n",
       " 'https://www.baseball-reference.com/teams/NYM/2013-roster.shtml',\n",
       " 'https://www.baseball-reference.com/teams/NYM/2014-roster.shtml',\n",
       " 'https://www.baseball-reference.com/teams/NYM/2015-roster.shtml',\n",
       " 'https://www.baseball-reference.com/teams/NYM/2016-roster.shtml',\n",
       " 'https://www.baseball-reference.com/teams/NYM/2017-roster.shtml',\n",
       " 'https://www.baseball-reference.com/teams/NYY/2008-roster.shtml',\n",
       " 'https://www.baseball-reference.com/teams/NYY/2009-roster.shtml',\n",
       " 'https://www.baseball-reference.com/teams/NYY/2010-roster.shtml',\n",
       " 'https://www.baseball-reference.com/teams/NYY/2011-roster.shtml',\n",
       " 'https://www.baseball-reference.com/teams/NYY/2012-roster.shtml',\n",
       " 'https://www.baseball-reference.com/teams/NYY/2013-roster.shtml',\n",
       " 'https://www.baseball-reference.com/teams/NYY/2014-roster.shtml',\n",
       " 'https://www.baseball-reference.com/teams/NYY/2015-roster.shtml',\n",
       " 'https://www.baseball-reference.com/teams/NYY/2016-roster.shtml',\n",
       " 'https://www.baseball-reference.com/teams/NYY/2017-roster.shtml',\n",
       " 'https://www.baseball-reference.com/teams/OAK/2008-roster.shtml',\n",
       " 'https://www.baseball-reference.com/teams/OAK/2009-roster.shtml',\n",
       " 'https://www.baseball-reference.com/teams/OAK/2010-roster.shtml',\n",
       " 'https://www.baseball-reference.com/teams/OAK/2011-roster.shtml',\n",
       " 'https://www.baseball-reference.com/teams/OAK/2012-roster.shtml',\n",
       " 'https://www.baseball-reference.com/teams/OAK/2013-roster.shtml',\n",
       " 'https://www.baseball-reference.com/teams/OAK/2014-roster.shtml',\n",
       " 'https://www.baseball-reference.com/teams/OAK/2015-roster.shtml',\n",
       " 'https://www.baseball-reference.com/teams/OAK/2016-roster.shtml',\n",
       " 'https://www.baseball-reference.com/teams/OAK/2017-roster.shtml',\n",
       " 'https://www.baseball-reference.com/teams/PHI/2008-roster.shtml',\n",
       " 'https://www.baseball-reference.com/teams/PHI/2009-roster.shtml',\n",
       " 'https://www.baseball-reference.com/teams/PHI/2010-roster.shtml',\n",
       " 'https://www.baseball-reference.com/teams/PHI/2011-roster.shtml',\n",
       " 'https://www.baseball-reference.com/teams/PHI/2012-roster.shtml',\n",
       " 'https://www.baseball-reference.com/teams/PHI/2013-roster.shtml',\n",
       " 'https://www.baseball-reference.com/teams/PHI/2014-roster.shtml',\n",
       " 'https://www.baseball-reference.com/teams/PHI/2015-roster.shtml',\n",
       " 'https://www.baseball-reference.com/teams/PHI/2016-roster.shtml',\n",
       " 'https://www.baseball-reference.com/teams/PHI/2017-roster.shtml',\n",
       " 'https://www.baseball-reference.com/teams/PIT/2008-roster.shtml',\n",
       " 'https://www.baseball-reference.com/teams/PIT/2009-roster.shtml',\n",
       " 'https://www.baseball-reference.com/teams/PIT/2010-roster.shtml',\n",
       " 'https://www.baseball-reference.com/teams/PIT/2011-roster.shtml',\n",
       " 'https://www.baseball-reference.com/teams/PIT/2012-roster.shtml',\n",
       " 'https://www.baseball-reference.com/teams/PIT/2013-roster.shtml',\n",
       " 'https://www.baseball-reference.com/teams/PIT/2014-roster.shtml',\n",
       " 'https://www.baseball-reference.com/teams/PIT/2015-roster.shtml',\n",
       " 'https://www.baseball-reference.com/teams/PIT/2016-roster.shtml',\n",
       " 'https://www.baseball-reference.com/teams/PIT/2017-roster.shtml',\n",
       " 'https://www.baseball-reference.com/teams/SDP/2008-roster.shtml',\n",
       " 'https://www.baseball-reference.com/teams/SDP/2009-roster.shtml',\n",
       " 'https://www.baseball-reference.com/teams/SDP/2010-roster.shtml',\n",
       " 'https://www.baseball-reference.com/teams/SDP/2011-roster.shtml',\n",
       " 'https://www.baseball-reference.com/teams/SDP/2012-roster.shtml',\n",
       " 'https://www.baseball-reference.com/teams/SDP/2013-roster.shtml',\n",
       " 'https://www.baseball-reference.com/teams/SDP/2014-roster.shtml',\n",
       " 'https://www.baseball-reference.com/teams/SDP/2015-roster.shtml',\n",
       " 'https://www.baseball-reference.com/teams/SDP/2016-roster.shtml',\n",
       " 'https://www.baseball-reference.com/teams/SDP/2017-roster.shtml',\n",
       " 'https://www.baseball-reference.com/teams/SFG/2008-roster.shtml',\n",
       " 'https://www.baseball-reference.com/teams/SFG/2009-roster.shtml',\n",
       " 'https://www.baseball-reference.com/teams/SFG/2010-roster.shtml',\n",
       " 'https://www.baseball-reference.com/teams/SFG/2011-roster.shtml',\n",
       " 'https://www.baseball-reference.com/teams/SFG/2012-roster.shtml',\n",
       " 'https://www.baseball-reference.com/teams/SFG/2013-roster.shtml',\n",
       " 'https://www.baseball-reference.com/teams/SFG/2014-roster.shtml',\n",
       " 'https://www.baseball-reference.com/teams/SFG/2015-roster.shtml',\n",
       " 'https://www.baseball-reference.com/teams/SFG/2016-roster.shtml',\n",
       " 'https://www.baseball-reference.com/teams/SFG/2017-roster.shtml',\n",
       " 'https://www.baseball-reference.com/teams/SEA/2008-roster.shtml',\n",
       " 'https://www.baseball-reference.com/teams/SEA/2009-roster.shtml',\n",
       " 'https://www.baseball-reference.com/teams/SEA/2010-roster.shtml',\n",
       " 'https://www.baseball-reference.com/teams/SEA/2011-roster.shtml',\n",
       " 'https://www.baseball-reference.com/teams/SEA/2012-roster.shtml',\n",
       " 'https://www.baseball-reference.com/teams/SEA/2013-roster.shtml',\n",
       " 'https://www.baseball-reference.com/teams/SEA/2014-roster.shtml',\n",
       " 'https://www.baseball-reference.com/teams/SEA/2015-roster.shtml',\n",
       " 'https://www.baseball-reference.com/teams/SEA/2016-roster.shtml',\n",
       " 'https://www.baseball-reference.com/teams/SEA/2017-roster.shtml',\n",
       " 'https://www.baseball-reference.com/teams/STL/2008-roster.shtml',\n",
       " 'https://www.baseball-reference.com/teams/STL/2009-roster.shtml',\n",
       " 'https://www.baseball-reference.com/teams/STL/2010-roster.shtml',\n",
       " 'https://www.baseball-reference.com/teams/STL/2011-roster.shtml',\n",
       " 'https://www.baseball-reference.com/teams/STL/2012-roster.shtml',\n",
       " 'https://www.baseball-reference.com/teams/STL/2013-roster.shtml',\n",
       " 'https://www.baseball-reference.com/teams/STL/2014-roster.shtml',\n",
       " 'https://www.baseball-reference.com/teams/STL/2015-roster.shtml',\n",
       " 'https://www.baseball-reference.com/teams/STL/2016-roster.shtml',\n",
       " 'https://www.baseball-reference.com/teams/STL/2017-roster.shtml',\n",
       " 'https://www.baseball-reference.com/teams/TBD/2008-roster.shtml',\n",
       " 'https://www.baseball-reference.com/teams/TBD/2009-roster.shtml',\n",
       " 'https://www.baseball-reference.com/teams/TBD/2010-roster.shtml',\n",
       " 'https://www.baseball-reference.com/teams/TBD/2011-roster.shtml',\n",
       " 'https://www.baseball-reference.com/teams/TBD/2012-roster.shtml',\n",
       " 'https://www.baseball-reference.com/teams/TBD/2013-roster.shtml',\n",
       " 'https://www.baseball-reference.com/teams/TBD/2014-roster.shtml',\n",
       " 'https://www.baseball-reference.com/teams/TBD/2015-roster.shtml',\n",
       " 'https://www.baseball-reference.com/teams/TBD/2016-roster.shtml',\n",
       " 'https://www.baseball-reference.com/teams/TBD/2017-roster.shtml',\n",
       " 'https://www.baseball-reference.com/teams/TEX/2008-roster.shtml',\n",
       " 'https://www.baseball-reference.com/teams/TEX/2009-roster.shtml',\n",
       " 'https://www.baseball-reference.com/teams/TEX/2010-roster.shtml',\n",
       " 'https://www.baseball-reference.com/teams/TEX/2011-roster.shtml',\n",
       " 'https://www.baseball-reference.com/teams/TEX/2012-roster.shtml',\n",
       " 'https://www.baseball-reference.com/teams/TEX/2013-roster.shtml',\n",
       " 'https://www.baseball-reference.com/teams/TEX/2014-roster.shtml',\n",
       " 'https://www.baseball-reference.com/teams/TEX/2015-roster.shtml',\n",
       " 'https://www.baseball-reference.com/teams/TEX/2016-roster.shtml',\n",
       " 'https://www.baseball-reference.com/teams/TEX/2017-roster.shtml',\n",
       " 'https://www.baseball-reference.com/teams/TOR/2008-roster.shtml',\n",
       " 'https://www.baseball-reference.com/teams/TOR/2009-roster.shtml',\n",
       " 'https://www.baseball-reference.com/teams/TOR/2010-roster.shtml',\n",
       " 'https://www.baseball-reference.com/teams/TOR/2011-roster.shtml',\n",
       " 'https://www.baseball-reference.com/teams/TOR/2012-roster.shtml',\n",
       " 'https://www.baseball-reference.com/teams/TOR/2013-roster.shtml',\n",
       " 'https://www.baseball-reference.com/teams/TOR/2014-roster.shtml',\n",
       " 'https://www.baseball-reference.com/teams/TOR/2015-roster.shtml',\n",
       " 'https://www.baseball-reference.com/teams/TOR/2016-roster.shtml',\n",
       " 'https://www.baseball-reference.com/teams/TOR/2017-roster.shtml',\n",
       " 'https://www.baseball-reference.com/teams/WSN/2008-roster.shtml',\n",
       " 'https://www.baseball-reference.com/teams/WSN/2009-roster.shtml',\n",
       " 'https://www.baseball-reference.com/teams/WSN/2010-roster.shtml',\n",
       " 'https://www.baseball-reference.com/teams/WSN/2011-roster.shtml',\n",
       " 'https://www.baseball-reference.com/teams/WSN/2012-roster.shtml',\n",
       " 'https://www.baseball-reference.com/teams/WSN/2013-roster.shtml',\n",
       " 'https://www.baseball-reference.com/teams/WSN/2014-roster.shtml',\n",
       " 'https://www.baseball-reference.com/teams/WSN/2015-roster.shtml',\n",
       " 'https://www.baseball-reference.com/teams/WSN/2016-roster.shtml',\n",
       " 'https://www.baseball-reference.com/teams/WSN/2017-roster.shtml']"
      ]
     },
     "execution_count": 35,
     "metadata": {},
     "output_type": "execute_result"
    }
   ],
   "source": [
    "urls"
   ]
  },
  {
   "cell_type": "code",
   "execution_count": 36,
   "metadata": {},
   "outputs": [],
   "source": [
    "r = get_response(teams_url)\n",
    "html = get_response(teams_url).text\n",
    "soup = BeautifulSoup(html, 'lxml')\n",
    "for table in soup.select(\"table\"):\n",
    "    if table['id'] == 'teams_active':\n",
    "        active_teams_table = table"
   ]
  },
  {
   "cell_type": "code",
   "execution_count": 37,
   "metadata": {},
   "outputs": [
    {
     "data": {
      "text/plain": [
       "<table class=\"row_summable sortable stats_table\" data-cols-to-freeze=\"0\" id=\"teams_active\"><caption>Active Franchises</caption>\n",
       "<colgroup><col/><col/><col/><col/><col/><col/><col/><col/><col/><col/><col/><col/><col/><col/><col/><col/><col/><col/><col/><col/><col/><col/></colgroup>\n",
       "<thead>\n",
       "<tr>\n",
       "<th aria-label=\"&lt;strong&gt;Rank&lt;/strong&gt;&lt;br&gt;This is a count of the rows from top to bottom.&lt;br&gt;It is recalculated following the sorting of a column.\" class=\"tooltip ranker poptip sort_default_asc show_partial_when_sorting center\" data-stat=\"ranker\" data-tip=\"&lt;strong&gt;Rank&lt;/strong&gt;&lt;br&gt;This is a count of the rows from top to bottom.&lt;br&gt;It is recalculated following the sorting of a column.\" scope=\"col\">Rk</th>\n",
       "<th aria-label=\"Franchise\" class=\" poptip sort_default_asc left\" data-stat=\"franchise_name\" scope=\"col\">Franchise</th>\n",
       "<th aria-label=\"First Season\" class=\" poptip sort_default_asc center\" data-stat=\"year_min\" data-tip=\"First Year\" scope=\"col\">From</th>\n",
       "<th aria-label=\"Final Season\" class=\" poptip center\" data-stat=\"year_max\" data-tip=\"Last Year\" scope=\"col\">To</th>\n",
       "<th aria-label=\"Games Played\" class=\" poptip center\" data-stat=\"G\" data-tip=\"Games Played or Pitched\" scope=\"col\">G</th>\n",
       "<th aria-label=\"Wins\" class=\" poptip center\" data-stat=\"W\" data-tip=\"Wins\" scope=\"col\">W</th>\n",
       "<th aria-label=\"Losses\" class=\" poptip center\" data-stat=\"L\" data-tip=\"Losses\" scope=\"col\">L</th>\n",
       "<th aria-label=\"Win-Loss %\" class=\" poptip hide_non_quals center\" data-filter=\"1\" data-name=\"Win-Loss %\" data-stat=\"win_loss_perc\" data-tip=\"&lt;strong&gt;Win-Loss Percentage&lt;/strong&gt;&lt;br&gt;W / (W + L)&lt;br&gt;For players, leaders need one decision for every ten team games.&lt;br&gt;For managers, minimum to qualify for leading is 320 games.\" scope=\"col\">W-L%</th>\n",
       "<th aria-label=\"Games Over .500\" class=\" poptip center\" data-stat=\"g_over_500\" data-tip=\"&lt;strong&gt;Games over .500&lt;/strong&gt;&lt;br&gt;If positive, the team has won this many games more than it lost.&lt;br&gt;If negative, the team has lost this many more games than it has won.\" scope=\"col\">G&gt;.500</th>\n",
       "<th aria-label=\"Div\" class=\" poptip center\" data-stat=\"divisions\" data-tip=\"&lt;strong&gt;Divisions Won&lt;/strong&gt;&lt;br&gt;The number of times the team won their division.\" scope=\"col\">Divs</th>\n",
       "<th aria-label=\"Pennants\" class=\" poptip center\" data-stat=\"pennants\" data-tip=\"&lt;strong&gt;Pennants Won&lt;/strong&gt;&lt;br&gt;The number of times the team was declared the league champion.&lt;br&gt;This can be determined by record or by playoff results.\" scope=\"col\">Pnnts</th>\n",
       "<th aria-label=\"World Series Titles\" class=\" poptip center\" data-stat=\"world_series_titles\" data-tip=\"&lt;strong&gt;World Series Titles&lt;/strong&gt;&lt;br&gt;The number of times the team won the World Series.&lt;br&gt;Pre-1903 Series are not included.\" scope=\"col\">WS</th>\n",
       "<th aria-label=\"Playoffs\" class=\" poptip center\" data-stat=\"playoffs\" data-tip=\"&lt;strong&gt;Playoffs&lt;/strong&gt;&lt;br&gt;This shows either the farthest each team went into the postseason&lt;br&gt;or how many postseason appearances in team history.\" scope=\"col\">Playoffs</th>\n",
       "<th aria-label=\"&lt;strong&gt;Number of Players&lt;/strong&gt;\" class=\" poptip show_partial_when_sorting center\" data-stat=\"players_number\" data-tip=\"&lt;strong&gt;Number of Players&lt;/strong&gt;\" scope=\"col\">Players</th>\n",
       "<th aria-label=\"&lt;strong&gt;Number of Former Players who are in Hall of Fame&lt;/strong&gt;&lt;br&gt;May or may not have been inducted as players.&lt;br&gt;For instance, Sparky Anderson is listed with Phillies, but not Reds or Tigers\" class=\" poptip show_partial_when_sorting center\" data-stat=\"HOFers\" data-tip=\"&lt;strong&gt;Number of Former Players who are in Hall of Fame&lt;/strong&gt;&lt;br&gt;May or may not have been inducted as players.&lt;br&gt;For instance, Sparky Anderson is listed with Phillies, but not Reds or Tigers\" scope=\"col\">HOF#</th>\n",
       "<th aria-label=\"Runs Scored\" class=\" poptip center\" data-stat=\"R\" data-tip=\"Runs Scored/Allowed\" scope=\"col\">R</th>\n",
       "<th aria-label=\"At Bats\" class=\" poptip center\" data-stat=\"AB\" data-tip=\"At Bats\" scope=\"col\">AB</th>\n",
       "<th aria-label=\"Hits\" class=\" poptip center\" data-stat=\"H\" data-tip=\"Hits/Hits Allowed\" scope=\"col\">H</th>\n",
       "<th aria-label=\"Home Runs\" class=\" poptip center\" data-stat=\"HR\" data-tip=\"Home Runs Hit/Allowed\" scope=\"col\">HR</th>\n",
       "<th aria-label=\"Batting Average\" class=\" poptip hide_non_quals center\" data-filter=\"1\" data-name=\"Batting Average\" data-stat=\"batting_avg\" data-tip='&lt;strong&gt;Hits/At Bats&lt;/strong&gt;&lt;br&gt;For recent years, leaders need 3.1 PA&lt;br&gt;per team game played&lt;br&gt;Bold indicates highest BA using current stats&lt;br&gt;&lt;span class=\"all_time_record\"&gt;Gold&lt;/span&gt; means awarded title at end of year.' scope=\"col\">BA</th>\n",
       "<th aria-label=\"Runs Allowed\" class=\" poptip center\" data-stat=\"RA\" data-tip=\"Runs Allowed\" scope=\"col\">RA</th>\n",
       "<th aria-label=\"Earned Run Average\" class=\" poptip sort_default_asc hide_non_quals center\" data-filter=\"1\" data-name=\"Earned Run Average\" data-stat=\"earned_run_avg\" data-tip=\"&lt;strong&gt;9 * ER / IP&lt;/strong&gt;&lt;br&gt;For recent years, leaders need 1 IP&lt;br&gt;per team game played.&lt;br&gt;Bold indicates lowest ERA using current stats&lt;br&gt;&lt;span class=glimmer&gt;Gold&lt;/span&gt; means awarded ERA title at end of year.\" scope=\"col\">ERA</th>\n",
       "</tr>\n",
       "</thead>\n",
       "<tbody>\n",
       "<tr class=\" partial_table\" valign=\"top\"><td csk=\"0.0010\"> </td><td class=\"zzzz\" colspan=\"21\"><span class=\"moved_names\">Anaheim Angels, see <a class=\"underline_text\" href=\"/teams/ANA/\">Los Angeles Angels</a></span></td></tr>\n",
       "<tr><th class=\"right \" csk=\"1\" data-stat=\"ranker\" scope=\"row\">1</th><td class=\"left \" data-stat=\"franchise_name\"><a href=\"/teams/ARI/\">Arizona Diamondbacks</a></td><td class=\"right \" data-stat=\"year_min\">1998</td><td class=\"right \" data-stat=\"year_max\">2017</td><td class=\"right \" data-stat=\"G\">3,240</td><td class=\"right \" data-stat=\"W\">1,596</td><td class=\"right \" data-stat=\"L\">1,644</td><td class=\"right \" csk=\"0.4925925920\" data-stat=\"win_loss_perc\">.493</td><td class=\"right \" data-stat=\"g_over_500\">-48</td><td class=\"right \" data-stat=\"divisions\">5</td><td class=\"right \" data-stat=\"pennants\">1</td><td class=\"right \" data-stat=\"world_series_titles\">1</td><td class=\"right \" data-stat=\"playoffs\">6</td><td class=\"right \" data-stat=\"players_number\">451</td><td class=\"right \" data-stat=\"HOFers\">2</td><td class=\"right \" data-stat=\"R\">14,717</td><td class=\"right \" data-stat=\"AB\">110,883</td><td class=\"right \" data-stat=\"H\">28,620</td><td class=\"right \" data-stat=\"HR\">3,397</td><td class=\"right \" data-stat=\"batting_avg\">.258</td><td class=\"right \" data-stat=\"RA\">14,926</td><td class=\"right \" data-stat=\"earned_run_avg\">4.23</td></tr>\n",
       "<tr><th class=\"right \" csk=\"2\" data-stat=\"ranker\" scope=\"row\">2</th><td class=\"left \" data-stat=\"franchise_name\"><a href=\"/teams/ATL/\">Atlanta Braves</a></td><td class=\"right \" data-stat=\"year_min\">1876</td><td class=\"right \" data-stat=\"year_max\">2017</td><td class=\"right \" data-stat=\"G\">21,186</td><td class=\"right \" data-stat=\"W\">10,510</td><td class=\"right \" data-stat=\"L\">10,522</td><td class=\"right \" csk=\"0.4997147200\" data-stat=\"win_loss_perc\">.500</td><td class=\"right \" data-stat=\"g_over_500\">-12</td><td class=\"right \" data-stat=\"divisions\">17</td><td class=\"right \" data-stat=\"pennants\">17</td><td class=\"right \" data-stat=\"world_series_titles\">3</td><td class=\"right \" data-stat=\"playoffs\">24</td><td class=\"right \" data-stat=\"players_number\">1966</td><td class=\"right \" data-stat=\"HOFers\">52</td><td class=\"right \" data-stat=\"R\">94,133</td><td class=\"right \" data-stat=\"AB\">725,518</td><td class=\"right \" data-stat=\"H\">188,589</td><td class=\"right \" data-stat=\"HR\">13,476</td><td class=\"right \" data-stat=\"batting_avg\">.260</td><td class=\"right \" data-stat=\"RA\">93,536</td><td class=\"right \" data-stat=\"earned_run_avg\">3.66</td></tr>\n",
       "<tr class=\"partial_table\"><td csk=\"2.0002\"> </td><td class=\"zzzz\" colspan=\"21\"><span class=\"alternate_names\">       Also played as Milwaukee Braves, Boston Braves, Boston Bees, Boston Rustlers, Boston Doves, Boston Beaneaters and Boston Red Stockings</span></td></tr>\n",
       "<tr><th class=\"right \" csk=\"3\" data-stat=\"ranker\" scope=\"row\">3</th><td class=\"left \" data-stat=\"franchise_name\"><a href=\"/teams/BAL/\">Baltimore Orioles</a></td><td class=\"right \" data-stat=\"year_min\">1901</td><td class=\"right \" data-stat=\"year_max\">2017</td><td class=\"right \" data-stat=\"G\">18,282</td><td class=\"right \" data-stat=\"W\">8,667</td><td class=\"right \" data-stat=\"L\">9,505</td><td class=\"right \" csk=\"0.4769425480\" data-stat=\"win_loss_perc\">.477</td><td class=\"right \" data-stat=\"g_over_500\">-838</td><td class=\"right \" data-stat=\"divisions\">9</td><td class=\"right \" data-stat=\"pennants\">7</td><td class=\"right \" data-stat=\"world_series_titles\">3</td><td class=\"right \" data-stat=\"playoffs\">14</td><td class=\"right \" data-stat=\"players_number\">1802</td><td class=\"right \" data-stat=\"HOFers\">31</td><td class=\"right \" data-stat=\"R\">78,870</td><td class=\"right \" data-stat=\"AB\">621,068</td><td class=\"right \" data-stat=\"H\">160,764</td><td class=\"right \" data-stat=\"HR\">13,117</td><td class=\"right \" data-stat=\"batting_avg\">.259</td><td class=\"right \" data-stat=\"RA\">83,612</td><td class=\"right \" data-stat=\"earned_run_avg\">4.01</td></tr>\n",
       "<tr class=\"partial_table\"><td csk=\"3.0002\"> </td><td class=\"zzzz\" colspan=\"21\"><span class=\"alternate_names\">       Also played as St. Louis Browns and Milwaukee Brewers</span></td></tr>\n",
       "<tr class=\" partial_table\" valign=\"top\"><td csk=\"3.0020\"> </td><td class=\"zzzz\" colspan=\"21\"><span class=\"moved_names\">Boston Braves, see <a class=\"underline_text\" href=\"/teams/ATL/\">Atlanta Braves</a></span></td></tr>\n",
       "<tr><th class=\"right \" csk=\"4\" data-stat=\"ranker\" scope=\"row\">4</th><td class=\"left \" data-stat=\"franchise_name\"><a href=\"/teams/BOS/\">Boston Red Sox</a></td><td class=\"right \" data-stat=\"year_min\">1901</td><td class=\"right \" data-stat=\"year_max\">2017</td><td class=\"right \" data-stat=\"G\">18,269</td><td class=\"right \" data-stat=\"W\">9,410</td><td class=\"right \" data-stat=\"L\">8,776</td><td class=\"right \" csk=\"0.5174309900\" data-stat=\"win_loss_perc\">.517</td><td class=\"right \" data-stat=\"g_over_500\">634</td><td class=\"right \" data-stat=\"divisions\">9</td><td class=\"right \" data-stat=\"pennants\">13</td><td class=\"right \" data-stat=\"world_series_titles\">8</td><td class=\"right \" data-stat=\"playoffs\">23</td><td class=\"right \" data-stat=\"players_number\">1783</td><td class=\"right \" data-stat=\"HOFers\">36</td><td class=\"right \" data-stat=\"R\">84,985</td><td class=\"right \" data-stat=\"AB\">624,930</td><td class=\"right \" data-stat=\"H\">166,976</td><td class=\"right \" data-stat=\"HR\">13,259</td><td class=\"right \" data-stat=\"batting_avg\">.267</td><td class=\"right \" data-stat=\"RA\">81,673</td><td class=\"right \" data-stat=\"earned_run_avg\">3.90</td></tr>\n",
       "<tr class=\"partial_table\"><td csk=\"4.0003\"> </td><td class=\"zzzz\" colspan=\"21\"><span class=\"alternate_names\">       Also played as Boston Americans</span></td></tr>\n",
       "<tr class=\" partial_table\" valign=\"top\"><td csk=\"4.0030\"> </td><td class=\"zzzz\" colspan=\"21\"><span class=\"moved_names\">Brooklyn Dodgers, see <a class=\"underline_text\" href=\"/teams/LAD/\">Los Angeles Dodgers</a></span></td></tr>\n",
       "<tr class=\" partial_table\" valign=\"top\"><td csk=\"4.0040\"> </td><td class=\"zzzz\" colspan=\"21\"><span class=\"moved_names\">California Angels, see <a class=\"underline_text\" href=\"/teams/ANA/\">Los Angeles Angels</a></span></td></tr>\n",
       "<tr><th class=\"right \" csk=\"5\" data-stat=\"ranker\" scope=\"row\">5</th><td class=\"left \" data-stat=\"franchise_name\"><a href=\"/teams/CHC/\">Chicago Cubs</a></td><td class=\"right \" data-stat=\"year_min\">1876</td><td class=\"right \" data-stat=\"year_max\">2017</td><td class=\"right \" data-stat=\"G\">21,222</td><td class=\"right \" data-stat=\"W\">10,803</td><td class=\"right \" data-stat=\"L\">10,258</td><td class=\"right \" csk=\"0.5129386060\" data-stat=\"win_loss_perc\">.513</td><td class=\"right \" data-stat=\"g_over_500\">545</td><td class=\"right \" data-stat=\"divisions\">7</td><td class=\"right \" data-stat=\"pennants\">17</td><td class=\"right \" data-stat=\"world_series_titles\">3</td><td class=\"right \" data-stat=\"playoffs\">21</td><td class=\"right \" data-stat=\"players_number\">2051</td><td class=\"right \" data-stat=\"HOFers\">44</td><td class=\"right \" data-stat=\"R\">97,673</td><td class=\"right \" data-stat=\"AB\">726,892</td><td class=\"right \" data-stat=\"H\">190,941</td><td class=\"right \" data-stat=\"HR\">13,952</td><td class=\"right \" data-stat=\"batting_avg\">.263</td><td class=\"right \" data-stat=\"RA\">94,341</td><td class=\"right \" data-stat=\"earned_run_avg\">3.68</td></tr>\n",
       "<tr class=\"partial_table\"><td csk=\"5.0005\"> </td><td class=\"zzzz\" colspan=\"21\"><span class=\"alternate_names\">       Also played as Chicago Orphans, Chicago Colts and Chicago White Stockings</span></td></tr>\n",
       "<tr><th class=\"right \" csk=\"6\" data-stat=\"ranker\" scope=\"row\">6</th><td class=\"left \" data-stat=\"franchise_name\"><a href=\"/teams/CHW/\">Chicago White Sox</a></td><td class=\"right \" data-stat=\"year_min\">1901</td><td class=\"right \" data-stat=\"year_max\">2017</td><td class=\"right \" data-stat=\"G\">18,278</td><td class=\"right \" data-stat=\"W\">9,149</td><td class=\"right \" data-stat=\"L\">9,026</td><td class=\"right \" csk=\"0.5033837680\" data-stat=\"win_loss_perc\">.503</td><td class=\"right \" data-stat=\"g_over_500\">123</td><td class=\"right \" data-stat=\"divisions\">5</td><td class=\"right \" data-stat=\"pennants\">6</td><td class=\"right \" data-stat=\"world_series_titles\">3</td><td class=\"right \" data-stat=\"playoffs\">9</td><td class=\"right \" data-stat=\"players_number\">1744</td><td class=\"right \" data-stat=\"HOFers\">31</td><td class=\"right \" data-stat=\"R\">79,622</td><td class=\"right \" data-stat=\"AB\">618,953</td><td class=\"right \" data-stat=\"H\">161,228</td><td class=\"right \" data-stat=\"HR\">11,146</td><td class=\"right \" data-stat=\"batting_avg\">.260</td><td class=\"right \" data-stat=\"RA\">79,085</td><td class=\"right \" data-stat=\"earned_run_avg\">3.76</td></tr>\n",
       "<tr><th class=\"right \" csk=\"7\" data-stat=\"ranker\" scope=\"row\">7</th><td class=\"left \" data-stat=\"franchise_name\"><a href=\"/teams/CIN/\">Cincinnati Reds</a></td><td class=\"right \" data-stat=\"year_min\">1882</td><td class=\"right \" data-stat=\"year_max\">2017</td><td class=\"right \" data-stat=\"G\">20,807</td><td class=\"right \" data-stat=\"W\">10,457</td><td class=\"right \" data-stat=\"L\">10,211</td><td class=\"right \" csk=\"0.5059512280\" data-stat=\"win_loss_perc\">.506</td><td class=\"right \" data-stat=\"g_over_500\">246</td><td class=\"right \" data-stat=\"divisions\">10</td><td class=\"right \" data-stat=\"pennants\">10</td><td class=\"right \" data-stat=\"world_series_titles\">5</td><td class=\"right \" data-stat=\"playoffs\">15</td><td class=\"right \" data-stat=\"players_number\">1968</td><td class=\"right \" data-stat=\"HOFers\">35</td><td class=\"right \" data-stat=\"R\">93,443</td><td class=\"right \" data-stat=\"AB\">709,692</td><td class=\"right \" data-stat=\"H\">185,570</td><td class=\"right \" data-stat=\"HR\">13,033</td><td class=\"right \" data-stat=\"batting_avg\">.261</td><td class=\"right \" data-stat=\"RA\">92,400</td><td class=\"right \" data-stat=\"earned_run_avg\">3.74</td></tr>\n",
       "<tr class=\"partial_table\"><td csk=\"7.0005\"> </td><td class=\"zzzz\" colspan=\"21\"><span class=\"alternate_names\">       Also played as Cincinnati Redlegs and Cincinnati Red Stockings</span></td></tr>\n",
       "<tr><th class=\"right \" csk=\"8\" data-stat=\"ranker\" scope=\"row\">8</th><td class=\"left \" data-stat=\"franchise_name\"><a href=\"/teams/CLE/\">Cleveland Indians</a></td><td class=\"right \" data-stat=\"year_min\">1901</td><td class=\"right \" data-stat=\"year_max\">2017</td><td class=\"right \" data-stat=\"G\">18,281</td><td class=\"right \" data-stat=\"W\">9,293</td><td class=\"right \" data-stat=\"L\">8,897</td><td class=\"right \" csk=\"0.5108851010\" data-stat=\"win_loss_perc\">.511</td><td class=\"right \" data-stat=\"g_over_500\">396</td><td class=\"right \" data-stat=\"divisions\">9</td><td class=\"right \" data-stat=\"pennants\">6</td><td class=\"right \" data-stat=\"world_series_titles\">2</td><td class=\"right \" data-stat=\"playoffs\">13</td><td class=\"right \" data-stat=\"players_number\">1855</td><td class=\"right \" data-stat=\"HOFers\">33</td><td class=\"right \" data-stat=\"R\">82,711</td><td class=\"right \" data-stat=\"AB\">623,601</td><td class=\"right \" data-stat=\"H\">165,739</td><td class=\"right \" data-stat=\"HR\">12,730</td><td class=\"right \" data-stat=\"batting_avg\">.266</td><td class=\"right \" data-stat=\"RA\">80,900</td><td class=\"right \" data-stat=\"earned_run_avg\">3.83</td></tr>\n",
       "<tr class=\"partial_table\"><td csk=\"8.0005\"> </td><td class=\"zzzz\" colspan=\"21\"><span class=\"alternate_names\">       Also played as Cleveland Naps, Cleveland Bronchos and Cleveland Blues</span></td></tr>\n",
       "<tr><th class=\"right \" csk=\"9\" data-stat=\"ranker\" scope=\"row\">9</th><td class=\"left \" data-stat=\"franchise_name\"><a href=\"/teams/COL/\">Colorado Rockies</a></td><td class=\"right \" data-stat=\"year_min\">1993</td><td class=\"right \" data-stat=\"year_max\">2017</td><td class=\"right \" data-stat=\"G\">3,988</td><td class=\"right \" data-stat=\"W\">1,871</td><td class=\"right \" data-stat=\"L\">2,117</td><td class=\"right \" csk=\"0.4691574720\" data-stat=\"win_loss_perc\">.469</td><td class=\"right \" data-stat=\"g_over_500\">-246</td><td class=\"right \" data-stat=\"divisions\">0</td><td class=\"right \" data-stat=\"pennants\">1</td><td class=\"right \" data-stat=\"world_series_titles\">0</td><td class=\"right \" data-stat=\"playoffs\">4</td><td class=\"right \" data-stat=\"players_number\">551</td><td class=\"right \" data-stat=\"HOFers\">0</td><td class=\"right \" data-stat=\"R\">20,181</td><td class=\"right \" data-stat=\"AB\">137,348</td><td class=\"right \" data-stat=\"H\">37,795</td><td class=\"right \" data-stat=\"HR\">4,516</td><td class=\"right \" data-stat=\"batting_avg\">.275</td><td class=\"right \" data-stat=\"RA\">21,048</td><td class=\"right \" data-stat=\"earned_run_avg\">4.98</td></tr>\n",
       "<tr><th class=\"right \" csk=\"10\" data-stat=\"ranker\" scope=\"row\">10</th><td class=\"left \" data-stat=\"franchise_name\"><a href=\"/teams/DET/\">Detroit Tigers</a></td><td class=\"right \" data-stat=\"year_min\">1901</td><td class=\"right \" data-stat=\"year_max\">2017</td><td class=\"right \" data-stat=\"G\">18,307</td><td class=\"right \" data-stat=\"W\">9,235</td><td class=\"right \" data-stat=\"L\">8,979</td><td class=\"right \" csk=\"0.5070275610\" data-stat=\"win_loss_perc\">.507</td><td class=\"right \" data-stat=\"g_over_500\">256</td><td class=\"right \" data-stat=\"divisions\">7</td><td class=\"right \" data-stat=\"pennants\">11</td><td class=\"right \" data-stat=\"world_series_titles\">4</td><td class=\"right \" data-stat=\"playoffs\">16</td><td class=\"right \" data-stat=\"players_number\">1658</td><td class=\"right \" data-stat=\"HOFers\">24</td><td class=\"right \" data-stat=\"R\">84,704</td><td class=\"right \" data-stat=\"AB\">624,815</td><td class=\"right \" data-stat=\"H\">166,004</td><td class=\"right \" data-stat=\"HR\">13,558</td><td class=\"right \" data-stat=\"batting_avg\">.266</td><td class=\"right \" data-stat=\"RA\">83,656</td><td class=\"right \" data-stat=\"earned_run_avg\">3.98</td></tr>\n",
       "<tr><th class=\"right \" csk=\"11\" data-stat=\"ranker\" scope=\"row\">11</th><td class=\"left \" data-stat=\"franchise_name\"><a href=\"/teams/HOU/\">Houston Astros</a></td><td class=\"right \" data-stat=\"year_min\">1962</td><td class=\"right \" data-stat=\"year_max\">2017</td><td class=\"right \" data-stat=\"G\">8,948</td><td class=\"right \" data-stat=\"W\">4,391</td><td class=\"right \" data-stat=\"L\">4,552</td><td class=\"right \" csk=\"0.4909985460\" data-stat=\"win_loss_perc\">.491</td><td class=\"right \" data-stat=\"g_over_500\">-161</td><td class=\"right \" data-stat=\"divisions\">8</td><td class=\"right \" data-stat=\"pennants\">2</td><td class=\"right \" data-stat=\"world_series_titles\">1</td><td class=\"right \" data-stat=\"playoffs\">11</td><td class=\"right \" data-stat=\"players_number\">885</td><td class=\"right \" data-stat=\"HOFers\">10</td><td class=\"right \" data-stat=\"R\">37,403</td><td class=\"right \" data-stat=\"AB\">303,529</td><td class=\"right \" data-stat=\"H\">77,215</td><td class=\"right \" data-stat=\"HR\">6,972</td><td class=\"right \" data-stat=\"batting_avg\">.254</td><td class=\"right \" data-stat=\"RA\">37,888</td><td class=\"right \" data-stat=\"earned_run_avg\">3.83</td></tr>\n",
       "<tr class=\"partial_table\"><td csk=\"11.0005\"> </td><td class=\"zzzz\" colspan=\"21\"><span class=\"alternate_names\">       Also played as Houston Colt .45's</span></td></tr>\n",
       "<tr class=\" partial_table\" valign=\"top\"><td csk=\"11.0050\"> </td><td class=\"zzzz\" colspan=\"21\"><span class=\"moved_names\">Kansas City Athletics, see <a class=\"underline_text\" href=\"/teams/OAK/\">Oakland Athletics</a></span></td></tr>\n",
       "<tr><th class=\"right \" csk=\"12\" data-stat=\"ranker\" scope=\"row\">12</th><td class=\"left \" data-stat=\"franchise_name\"><a href=\"/teams/KCR/\">Kansas City Royals</a></td><td class=\"right \" data-stat=\"year_min\">1969</td><td class=\"right \" data-stat=\"year_max\">2017</td><td class=\"right \" data-stat=\"G\">7,801</td><td class=\"right \" data-stat=\"W\">3,784</td><td class=\"right \" data-stat=\"L\">4,015</td><td class=\"right \" csk=\"0.4851904090\" data-stat=\"win_loss_perc\">.485</td><td class=\"right \" data-stat=\"g_over_500\">-231</td><td class=\"right \" data-stat=\"divisions\">8</td><td class=\"right \" data-stat=\"pennants\">4</td><td class=\"right \" data-stat=\"world_series_titles\">2</td><td class=\"right \" data-stat=\"playoffs\">9</td><td class=\"right \" data-stat=\"players_number\">857</td><td class=\"right \" data-stat=\"HOFers\">4</td><td class=\"right \" data-stat=\"R\">34,359</td><td class=\"right \" data-stat=\"AB\">267,465</td><td class=\"right \" data-stat=\"H\">70,846</td><td class=\"right \" data-stat=\"HR\">5,953</td><td class=\"right \" data-stat=\"batting_avg\">.265</td><td class=\"right \" data-stat=\"RA\">35,755</td><td class=\"right \" data-stat=\"earned_run_avg\">4.20</td></tr>\n",
       "<tr><th class=\"right \" csk=\"13\" data-stat=\"ranker\" scope=\"row\">13</th><td class=\"left \" data-stat=\"franchise_name\"><a href=\"/teams/ANA/\">Los Angeles Angels</a></td><td class=\"right \" data-stat=\"year_min\">1961</td><td class=\"right \" data-stat=\"year_max\">2017</td><td class=\"right \" data-stat=\"G\">9,107</td><td class=\"right \" data-stat=\"W\">4,557</td><td class=\"right \" data-stat=\"L\">4,547</td><td class=\"right \" csk=\"0.5005492090\" data-stat=\"win_loss_perc\">.501</td><td class=\"right \" data-stat=\"g_over_500\">10</td><td class=\"right \" data-stat=\"divisions\">9</td><td class=\"right \" data-stat=\"pennants\">1</td><td class=\"right \" data-stat=\"world_series_titles\">1</td><td class=\"right \" data-stat=\"playoffs\">10</td><td class=\"right \" data-stat=\"players_number\">1022</td><td class=\"right \" data-stat=\"HOFers\">11</td><td class=\"right \" data-stat=\"R\">39,380</td><td class=\"right \" data-stat=\"AB\">309,299</td><td class=\"right \" data-stat=\"H\">79,713</td><td class=\"right \" data-stat=\"HR\">7,854</td><td class=\"right \" data-stat=\"batting_avg\">.258</td><td class=\"right \" data-stat=\"RA\">39,533</td><td class=\"right \" data-stat=\"earned_run_avg\">3.95</td></tr>\n",
       "<tr class=\"partial_table\"><td csk=\"13.0006\"> </td><td class=\"zzzz\" colspan=\"21\"><span class=\"alternate_names\">       Also played as Los Angeles Angels of Anaheim, Anaheim Angels and California Angels</span></td></tr>\n",
       "<tr><th class=\"right \" csk=\"14\" data-stat=\"ranker\" scope=\"row\">14</th><td class=\"left \" data-stat=\"franchise_name\"><a href=\"/teams/LAD/\">Los Angeles Dodgers</a></td><td class=\"right \" data-stat=\"year_min\">1884</td><td class=\"right \" data-stat=\"year_max\">2017</td><td class=\"right \" data-stat=\"G\">20,606</td><td class=\"right \" data-stat=\"W\">10,776</td><td class=\"right \" data-stat=\"L\">9,691</td><td class=\"right \" csk=\"0.5265060820\" data-stat=\"win_loss_perc\">.527</td><td class=\"right \" data-stat=\"g_over_500\">1085</td><td class=\"right \" data-stat=\"divisions\">16</td><td class=\"right \" data-stat=\"pennants\">23</td><td class=\"right \" data-stat=\"world_series_titles\">6</td><td class=\"right \" data-stat=\"playoffs\">33</td><td class=\"right \" data-stat=\"players_number\">1815</td><td class=\"right \" data-stat=\"HOFers\">50</td><td class=\"right \" data-stat=\"R\">92,185</td><td class=\"right \" data-stat=\"AB\">702,194</td><td class=\"right \" data-stat=\"H\">183,713</td><td class=\"right \" data-stat=\"HR\">12,492</td><td class=\"right \" data-stat=\"batting_avg\">.262</td><td class=\"right \" data-stat=\"RA\">87,571</td><td class=\"right \" data-stat=\"earned_run_avg\">3.53</td></tr>\n",
       "<tr class=\"partial_table\"><td csk=\"14.0006\"> </td><td class=\"zzzz\" colspan=\"21\"><span class=\"alternate_names\">       Also played as Brooklyn Dodgers, Brooklyn Robins, Brooklyn Superbas, Brooklyn Bridegrooms, Brooklyn Grooms, Brooklyn Grays and Brooklyn Atlantics</span></td></tr>\n",
       "<tr><th class=\"right \" csk=\"15\" data-stat=\"ranker\" scope=\"row\">15</th><td class=\"left \" data-stat=\"franchise_name\"><a href=\"/teams/FLA/\">Miami Marlins</a></td><td class=\"right \" data-stat=\"year_min\">1993</td><td class=\"right \" data-stat=\"year_max\">2017</td><td class=\"right \" data-stat=\"G\">3,981</td><td class=\"right \" data-stat=\"W\">1,870</td><td class=\"right \" data-stat=\"L\">2,111</td><td class=\"right \" csk=\"0.4697312230\" data-stat=\"win_loss_perc\">.470</td><td class=\"right \" data-stat=\"g_over_500\">-241</td><td class=\"right \" data-stat=\"divisions\">0</td><td class=\"right \" data-stat=\"pennants\">2</td><td class=\"right \" data-stat=\"world_series_titles\">2</td><td class=\"right \" data-stat=\"playoffs\">2</td><td class=\"right \" data-stat=\"players_number\">541</td><td class=\"right \" data-stat=\"HOFers\">5</td><td class=\"right \" data-stat=\"R\">17,113</td><td class=\"right \" data-stat=\"AB\">135,660</td><td class=\"right \" data-stat=\"H\">35,055</td><td class=\"right \" data-stat=\"HR\">3,612</td><td class=\"right \" data-stat=\"batting_avg\">.258</td><td class=\"right \" data-stat=\"RA\">18,389</td><td class=\"right \" data-stat=\"earned_run_avg\">4.27</td></tr>\n",
       "<tr class=\"partial_table\"><td csk=\"15.0006\"> </td><td class=\"zzzz\" colspan=\"21\"><span class=\"alternate_names\">       Also played as Florida Marlins</span></td></tr>\n",
       "<tr class=\" partial_table\" valign=\"top\"><td csk=\"15.0060\"> </td><td class=\"zzzz\" colspan=\"21\"><span class=\"moved_names\">Milwaukee Braves, see <a class=\"underline_text\" href=\"/teams/ATL/\">Atlanta Braves</a></span></td></tr>\n",
       "<tr><th class=\"right \" csk=\"16\" data-stat=\"ranker\" scope=\"row\">16</th><td class=\"left \" data-stat=\"franchise_name\"><a href=\"/teams/MIL/\">Milwaukee Brewers</a></td><td class=\"right \" data-stat=\"year_min\">1969</td><td class=\"right \" data-stat=\"year_max\">2017</td><td class=\"right \" data-stat=\"G\">7,809</td><td class=\"right \" data-stat=\"W\">3,728</td><td class=\"right \" data-stat=\"L\">4,077</td><td class=\"right \" csk=\"0.4776425360\" data-stat=\"win_loss_perc\">.478</td><td class=\"right \" data-stat=\"g_over_500\">-349</td><td class=\"right \" data-stat=\"divisions\">3</td><td class=\"right \" data-stat=\"pennants\">1</td><td class=\"right \" data-stat=\"world_series_titles\">0</td><td class=\"right \" data-stat=\"playoffs\">4</td><td class=\"right \" data-stat=\"players_number\">863</td><td class=\"right \" data-stat=\"HOFers\">6</td><td class=\"right \" data-stat=\"R\">34,567</td><td class=\"right \" data-stat=\"AB\">265,534</td><td class=\"right \" data-stat=\"H\">68,529</td><td class=\"right \" data-stat=\"HR\">7,367</td><td class=\"right \" data-stat=\"batting_avg\">.258</td><td class=\"right \" data-stat=\"RA\">35,831</td><td class=\"right \" data-stat=\"earned_run_avg\">4.18</td></tr>\n",
       "<tr class=\"partial_table\"><td csk=\"16.0007\"> </td><td class=\"zzzz\" colspan=\"21\"><span class=\"alternate_names\">       Also played as Seattle Pilots</span></td></tr>\n",
       "<tr class=\" partial_table\" valign=\"top\"><td csk=\"16.0070\"> </td><td class=\"zzzz\" colspan=\"21\"><span class=\"moved_names\">Milwaukee Brewers (1901), see <a class=\"underline_text\" href=\"/teams/BAL/\">Baltimore Orioles</a></span></td></tr>\n",
       "<tr><th class=\"right \" csk=\"17\" data-stat=\"ranker\" scope=\"row\">17</th><td class=\"left \" data-stat=\"franchise_name\"><a href=\"/teams/MIN/\">Minnesota Twins</a></td><td class=\"right \" data-stat=\"year_min\">1901</td><td class=\"right \" data-stat=\"year_max\">2017</td><td class=\"right \" data-stat=\"G\">18,291</td><td class=\"right \" data-stat=\"W\">8,724</td><td class=\"right \" data-stat=\"L\">9,458</td><td class=\"right \" csk=\"0.4798152010\" data-stat=\"win_loss_perc\">.480</td><td class=\"right \" data-stat=\"g_over_500\">-734</td><td class=\"right \" data-stat=\"divisions\">10</td><td class=\"right \" data-stat=\"pennants\">6</td><td class=\"right \" data-stat=\"world_series_titles\">3</td><td class=\"right \" data-stat=\"playoffs\">15</td><td class=\"right \" data-stat=\"players_number\">1651</td><td class=\"right \" data-stat=\"HOFers\">25</td><td class=\"right \" data-stat=\"R\">80,090</td><td class=\"right \" data-stat=\"AB\">624,143</td><td class=\"right \" data-stat=\"H\">164,155</td><td class=\"right \" data-stat=\"HR\">10,585</td><td class=\"right \" data-stat=\"batting_avg\">.263</td><td class=\"right \" data-stat=\"RA\">83,578</td><td class=\"right \" data-stat=\"earned_run_avg\">3.98</td></tr>\n",
       "<tr class=\"partial_table\"><td csk=\"17.0008\"> </td><td class=\"zzzz\" colspan=\"21\"><span class=\"alternate_names\">       Also played as Washington Senators</span></td></tr>\n",
       "<tr class=\" partial_table\" valign=\"top\"><td csk=\"17.0080\"> </td><td class=\"zzzz\" colspan=\"21\"><span class=\"moved_names\">Montreal Expos, see <a class=\"underline_text\" href=\"/teams/WSN/\">Washington Nationals</a></span></td></tr>\n",
       "<tr class=\" partial_table\" valign=\"top\"><td csk=\"17.0090\"> </td><td class=\"zzzz\" colspan=\"21\"><span class=\"moved_names\">New York Giants, see <a class=\"underline_text\" href=\"/teams/SFG/\">San Francisco Giants</a></span></td></tr>\n",
       "<tr><th class=\"right \" csk=\"18\" data-stat=\"ranker\" scope=\"row\">18</th><td class=\"left \" data-stat=\"franchise_name\"><a href=\"/teams/NYM/\">New York Mets</a></td><td class=\"right \" data-stat=\"year_min\">1962</td><td class=\"right \" data-stat=\"year_max\">2017</td><td class=\"right \" data-stat=\"G\">8,940</td><td class=\"right \" data-stat=\"W\">4,285</td><td class=\"right \" data-stat=\"L\">4,647</td><td class=\"right \" csk=\"0.4797357810\" data-stat=\"win_loss_perc\">.480</td><td class=\"right \" data-stat=\"g_over_500\">-362</td><td class=\"right \" data-stat=\"divisions\">6</td><td class=\"right \" data-stat=\"pennants\">5</td><td class=\"right \" data-stat=\"world_series_titles\">2</td><td class=\"right \" data-stat=\"playoffs\">9</td><td class=\"right \" data-stat=\"players_number\">1043</td><td class=\"right \" data-stat=\"HOFers\">15</td><td class=\"right \" data-stat=\"R\">36,480</td><td class=\"right \" data-stat=\"AB\">302,722</td><td class=\"right \" data-stat=\"H\">75,737</td><td class=\"right \" data-stat=\"HR\">7,259</td><td class=\"right \" data-stat=\"batting_avg\">.250</td><td class=\"right \" data-stat=\"RA\">37,503</td><td class=\"right \" data-stat=\"earned_run_avg\">3.78</td></tr>\n",
       "<tr><th class=\"right \" csk=\"19\" data-stat=\"ranker\" scope=\"row\">19</th><td class=\"left \" data-stat=\"franchise_name\"><a href=\"/teams/NYY/\">New York Yankees</a></td><td class=\"right \" data-stat=\"year_min\">1903</td><td class=\"right \" data-stat=\"year_max\">2017</td><td class=\"right \" data-stat=\"G\">17,982</td><td class=\"right \" data-stat=\"W\">10,175</td><td class=\"right \" data-stat=\"L\">7,719</td><td class=\"right \" csk=\"0.5686263550\" data-stat=\"win_loss_perc\">.569</td><td class=\"right \" data-stat=\"g_over_500\">2456</td><td class=\"right \" data-stat=\"divisions\">18</td><td class=\"right \" data-stat=\"pennants\">40</td><td class=\"right \" data-stat=\"world_series_titles\">27</td><td class=\"right \" data-stat=\"playoffs\">53</td><td class=\"right \" data-stat=\"players_number\">1658</td><td class=\"right \" data-stat=\"HOFers\">42</td><td class=\"right \" data-stat=\"R\">87,246</td><td class=\"right \" data-stat=\"AB\">613,539</td><td class=\"right \" data-stat=\"H\">163,585</td><td class=\"right \" data-stat=\"HR\">15,642</td><td class=\"right \" data-stat=\"batting_avg\">.267</td><td class=\"right \" data-stat=\"RA\">75,032</td><td class=\"right \" data-stat=\"earned_run_avg\">3.64</td></tr>\n",
       "<tr class=\"partial_table\"><td csk=\"19.0010\"> </td><td class=\"zzzz\" colspan=\"21\"><span class=\"alternate_names\">       Also played as New York Highlanders</span></td></tr>\n",
       "<tr><th class=\"right \" csk=\"20\" data-stat=\"ranker\" scope=\"row\">20</th><td class=\"left \" data-stat=\"franchise_name\"><a href=\"/teams/OAK/\">Oakland Athletics</a></td><td class=\"right \" data-stat=\"year_min\">1901</td><td class=\"right \" data-stat=\"year_max\">2017</td><td class=\"right \" data-stat=\"G\">18,243</td><td class=\"right \" data-stat=\"W\">8,834</td><td class=\"right \" data-stat=\"L\">9,322</td><td class=\"right \" csk=\"0.4865609160\" data-stat=\"win_loss_perc\">.487</td><td class=\"right \" data-stat=\"g_over_500\">-488</td><td class=\"right \" data-stat=\"divisions\">16</td><td class=\"right \" data-stat=\"pennants\">15</td><td class=\"right \" data-stat=\"world_series_titles\">9</td><td class=\"right \" data-stat=\"playoffs\">26</td><td class=\"right \" data-stat=\"players_number\">1932</td><td class=\"right \" data-stat=\"HOFers\">40</td><td class=\"right \" data-stat=\"R\">80,628</td><td class=\"right \" data-stat=\"AB\">618,821</td><td class=\"right \" data-stat=\"H\">160,068</td><td class=\"right \" data-stat=\"HR\">12,823</td><td class=\"right \" data-stat=\"batting_avg\">.259</td><td class=\"right \" data-stat=\"RA\">83,379</td><td class=\"right \" data-stat=\"earned_run_avg\">3.98</td></tr>\n",
       "<tr class=\"partial_table\"><td csk=\"20.0010\"> </td><td class=\"zzzz\" colspan=\"21\"><span class=\"alternate_names\">       Also played as Kansas City Athletics and Philadelphia Athletics</span></td></tr>\n",
       "<tr class=\" partial_table\" valign=\"top\"><td csk=\"20.0100\"> </td><td class=\"zzzz\" colspan=\"21\"><span class=\"moved_names\">Philadelphia Athletics, see <a class=\"underline_text\" href=\"/teams/OAK/\">Oakland Athletics</a></span></td></tr>\n",
       "<tr><th class=\"right \" csk=\"21\" data-stat=\"ranker\" scope=\"row\">21</th><td class=\"left \" data-stat=\"franchise_name\"><a href=\"/teams/PHI/\">Philadelphia Phillies</a></td><td class=\"right \" data-stat=\"year_min\">1883</td><td class=\"right \" data-stat=\"year_max\">2017</td><td class=\"right \" data-stat=\"G\">20,616</td><td class=\"right \" data-stat=\"W\">9,664</td><td class=\"right \" data-stat=\"L\">10,837</td><td class=\"right \" csk=\"0.4713916390\" data-stat=\"win_loss_perc\">.471</td><td class=\"right \" data-stat=\"g_over_500\">-1173</td><td class=\"right \" data-stat=\"divisions\">12</td><td class=\"right \" data-stat=\"pennants\">7</td><td class=\"right \" data-stat=\"world_series_titles\">2</td><td class=\"right \" data-stat=\"playoffs\">14</td><td class=\"right \" data-stat=\"players_number\">2036</td><td class=\"right \" data-stat=\"HOFers\">34</td><td class=\"right \" data-stat=\"R\">91,298</td><td class=\"right \" data-stat=\"AB\">705,852</td><td class=\"right \" data-stat=\"H\">184,227</td><td class=\"right \" data-stat=\"HR\">12,838</td><td class=\"right \" data-stat=\"batting_avg\">.261</td><td class=\"right \" data-stat=\"RA\">97,212</td><td class=\"right \" data-stat=\"earned_run_avg\">3.97</td></tr>\n",
       "<tr class=\"partial_table\"><td csk=\"21.0011\"> </td><td class=\"zzzz\" colspan=\"21\"><span class=\"alternate_names\">       Also played as Philadelphia Quakers</span></td></tr>\n",
       "<tr><th class=\"right \" csk=\"22\" data-stat=\"ranker\" scope=\"row\">22</th><td class=\"left \" data-stat=\"franchise_name\"><a href=\"/teams/PIT/\">Pittsburgh Pirates</a></td><td class=\"right \" data-stat=\"year_min\">1882</td><td class=\"right \" data-stat=\"year_max\">2017</td><td class=\"right \" data-stat=\"G\">20,767</td><td class=\"right \" data-stat=\"W\">10,394</td><td class=\"right \" data-stat=\"L\">10,233</td><td class=\"right \" csk=\"0.5039026510\" data-stat=\"win_loss_perc\">.504</td><td class=\"right \" data-stat=\"g_over_500\">161</td><td class=\"right \" data-stat=\"divisions\">9</td><td class=\"right \" data-stat=\"pennants\">9</td><td class=\"right \" data-stat=\"world_series_titles\">5</td><td class=\"right \" data-stat=\"playoffs\">17</td><td class=\"right \" data-stat=\"players_number\">1944</td><td class=\"right \" data-stat=\"HOFers\">40</td><td class=\"right \" data-stat=\"R\">92,794</td><td class=\"right \" data-stat=\"AB\">712,127</td><td class=\"right \" data-stat=\"H\">188,276</td><td class=\"right \" data-stat=\"HR\">11,239</td><td class=\"right \" data-stat=\"batting_avg\">.264</td><td class=\"right \" data-stat=\"RA\">92,139</td><td class=\"right \" data-stat=\"earned_run_avg\">3.72</td></tr>\n",
       "<tr class=\"partial_table\"><td csk=\"22.0011\"> </td><td class=\"zzzz\" colspan=\"21\"><span class=\"alternate_names\">       Also played as Pittsburgh Alleghenys</span></td></tr>\n",
       "<tr><th class=\"right \" csk=\"23\" data-stat=\"ranker\" scope=\"row\">23</th><td class=\"left \" data-stat=\"franchise_name\"><a href=\"/teams/SDP/\">San Diego Padres</a></td><td class=\"right \" data-stat=\"year_min\">1969</td><td class=\"right \" data-stat=\"year_max\">2017</td><td class=\"right \" data-stat=\"G\">7,814</td><td class=\"right \" data-stat=\"W\">3,611</td><td class=\"right \" data-stat=\"L\">4,201</td><td class=\"right \" csk=\"0.4622375830\" data-stat=\"win_loss_perc\">.462</td><td class=\"right \" data-stat=\"g_over_500\">-590</td><td class=\"right \" data-stat=\"divisions\">5</td><td class=\"right \" data-stat=\"pennants\">2</td><td class=\"right \" data-stat=\"world_series_titles\">0</td><td class=\"right \" data-stat=\"playoffs\">5</td><td class=\"right \" data-stat=\"players_number\">977</td><td class=\"right \" data-stat=\"HOFers\">12</td><td class=\"right \" data-stat=\"R\">31,276</td><td class=\"right \" data-stat=\"AB\">264,444</td><td class=\"right \" data-stat=\"H\">66,100</td><td class=\"right \" data-stat=\"HR\">6,014</td><td class=\"right \" data-stat=\"batting_avg\">.250</td><td class=\"right \" data-stat=\"RA\">34,235</td><td class=\"right \" data-stat=\"earned_run_avg\">3.95</td></tr>\n",
       "<tr><th class=\"right \" csk=\"24\" data-stat=\"ranker\" scope=\"row\">24</th><td class=\"left \" data-stat=\"franchise_name\"><a href=\"/teams/SFG/\">San Francisco Giants</a></td><td class=\"right \" data-stat=\"year_min\">1883</td><td class=\"right \" data-stat=\"year_max\">2017</td><td class=\"right \" data-stat=\"G\">20,691</td><td class=\"right \" data-stat=\"W\">11,015</td><td class=\"right \" data-stat=\"L\">9,513</td><td class=\"right \" csk=\"0.5365841770\" data-stat=\"win_loss_perc\">.537</td><td class=\"right \" data-stat=\"g_over_500\">1502</td><td class=\"right \" data-stat=\"divisions\">8</td><td class=\"right \" data-stat=\"pennants\">23</td><td class=\"right \" data-stat=\"world_series_titles\">8</td><td class=\"right \" data-stat=\"playoffs\">28</td><td class=\"right \" data-stat=\"players_number\">1756</td><td class=\"right \" data-stat=\"HOFers\">57</td><td class=\"right \" data-stat=\"R\">95,987</td><td class=\"right \" data-stat=\"AB\">706,579</td><td class=\"right \" data-stat=\"H\">186,683</td><td class=\"right \" data-stat=\"HR\">14,382</td><td class=\"right \" data-stat=\"batting_avg\">.264</td><td class=\"right \" data-stat=\"RA\">88,534</td><td class=\"right \" data-stat=\"earned_run_avg\">3.56</td></tr>\n",
       "<tr class=\"partial_table\"><td csk=\"24.0011\"> </td><td class=\"zzzz\" colspan=\"21\"><span class=\"alternate_names\">       Also played as New York Giants and New York Gothams</span></td></tr>\n",
       "<tr><th class=\"right \" csk=\"25\" data-stat=\"ranker\" scope=\"row\">25</th><td class=\"left \" data-stat=\"franchise_name\"><a href=\"/teams/SEA/\">Seattle Mariners</a></td><td class=\"right \" data-stat=\"year_min\">1977</td><td class=\"right \" data-stat=\"year_max\">2017</td><td class=\"right \" data-stat=\"G\">6,519</td><td class=\"right \" data-stat=\"W\">3,062</td><td class=\"right \" data-stat=\"L\">3,455</td><td class=\"right \" csk=\"0.4698480890\" data-stat=\"win_loss_perc\">.470</td><td class=\"right \" data-stat=\"g_over_500\">-393</td><td class=\"right \" data-stat=\"divisions\">3</td><td class=\"right \" data-stat=\"pennants\">0</td><td class=\"right \" data-stat=\"world_series_titles\">0</td><td class=\"right \" data-stat=\"playoffs\">4</td><td class=\"right \" data-stat=\"players_number\">799</td><td class=\"right \" data-stat=\"HOFers\">5</td><td class=\"right \" data-stat=\"R\">29,008</td><td class=\"right \" data-stat=\"AB\">223,087</td><td class=\"right \" data-stat=\"H\">58,102</td><td class=\"right \" data-stat=\"HR\">6,399</td><td class=\"right \" data-stat=\"batting_avg\">.260</td><td class=\"right \" data-stat=\"RA\">30,633</td><td class=\"right \" data-stat=\"earned_run_avg\">4.32</td></tr>\n",
       "<tr class=\" partial_table\" valign=\"top\"><td csk=\"25.0110\"> </td><td class=\"zzzz\" colspan=\"21\"><span class=\"moved_names\">Seattle Pilots, see <a class=\"underline_text\" href=\"/teams/MIL/\">Milwaukee Brewers</a></span></td></tr>\n",
       "<tr class=\" partial_table\" valign=\"top\"><td csk=\"25.0120\"> </td><td class=\"zzzz\" colspan=\"21\"><span class=\"moved_names\">St. Louis Browns, see <a class=\"underline_text\" href=\"/teams/BAL/\">Baltimore Orioles</a></span></td></tr>\n",
       "<tr><th class=\"right \" csk=\"26\" data-stat=\"ranker\" scope=\"row\">26</th><td class=\"left \" data-stat=\"franchise_name\"><a href=\"/teams/STL/\">St. Louis Cardinals</a></td><td class=\"right \" data-stat=\"year_min\">1882</td><td class=\"right \" data-stat=\"year_max\">2017</td><td class=\"right \" data-stat=\"G\">20,809</td><td class=\"right \" data-stat=\"W\">10,739</td><td class=\"right \" data-stat=\"L\">9,918</td><td class=\"right \" csk=\"0.5198721980\" data-stat=\"win_loss_perc\">.520</td><td class=\"right \" data-stat=\"g_over_500\">821</td><td class=\"right \" data-stat=\"divisions\">13</td><td class=\"right \" data-stat=\"pennants\">23</td><td class=\"right \" data-stat=\"world_series_titles\">11</td><td class=\"right \" data-stat=\"playoffs\">32</td><td class=\"right \" data-stat=\"players_number\">2092</td><td class=\"right \" data-stat=\"HOFers\">44</td><td class=\"right \" data-stat=\"R\">95,483</td><td class=\"right \" data-stat=\"AB\">714,072</td><td class=\"right \" data-stat=\"H\">190,332</td><td class=\"right \" data-stat=\"HR\">11,884</td><td class=\"right \" data-stat=\"batting_avg\">.267</td><td class=\"right \" data-stat=\"RA\">91,735</td><td class=\"right \" data-stat=\"earned_run_avg\">3.67</td></tr>\n",
       "<tr class=\"partial_table\"><td csk=\"26.0013\"> </td><td class=\"zzzz\" colspan=\"21\"><span class=\"alternate_names\">       Also played as St. Louis Perfectos, St. Louis Browns and St. Louis Brown Stockings</span></td></tr>\n",
       "<tr><th class=\"right \" csk=\"27\" data-stat=\"ranker\" scope=\"row\">27</th><td class=\"left \" data-stat=\"franchise_name\"><a href=\"/teams/TBD/\">Tampa Bay Rays</a></td><td class=\"right \" data-stat=\"year_min\">1998</td><td class=\"right \" data-stat=\"year_max\">2017</td><td class=\"right \" data-stat=\"G\">3,238</td><td class=\"right \" data-stat=\"W\">1,500</td><td class=\"right \" data-stat=\"L\">1,738</td><td class=\"right \" csk=\"0.4632489190\" data-stat=\"win_loss_perc\">.463</td><td class=\"right \" data-stat=\"g_over_500\">-238</td><td class=\"right \" data-stat=\"divisions\">2</td><td class=\"right \" data-stat=\"pennants\">1</td><td class=\"right \" data-stat=\"world_series_titles\">0</td><td class=\"right \" data-stat=\"playoffs\">4</td><td class=\"right \" data-stat=\"players_number\">435</td><td class=\"right \" data-stat=\"HOFers\">1</td><td class=\"right \" data-stat=\"R\">14,225</td><td class=\"right \" data-stat=\"AB\">110,304</td><td class=\"right \" data-stat=\"H\">28,245</td><td class=\"right \" data-stat=\"HR\">3,267</td><td class=\"right \" data-stat=\"batting_avg\">.256</td><td class=\"right \" data-stat=\"RA\">15,336</td><td class=\"right \" data-stat=\"earned_run_avg\">4.40</td></tr>\n",
       "<tr class=\"partial_table\"><td csk=\"27.0013\"> </td><td class=\"zzzz\" colspan=\"21\"><span class=\"alternate_names\">       Also played as Tampa Bay Devil Rays</span></td></tr>\n",
       "<tr><th class=\"right \" csk=\"28\" data-stat=\"ranker\" scope=\"row\">28</th><td class=\"left \" data-stat=\"franchise_name\"><a href=\"/teams/TEX/\">Texas Rangers</a></td><td class=\"right \" data-stat=\"year_min\">1961</td><td class=\"right \" data-stat=\"year_max\">2017</td><td class=\"right \" data-stat=\"G\">9,094</td><td class=\"right \" data-stat=\"W\">4,355</td><td class=\"right \" data-stat=\"L\">4,733</td><td class=\"right \" csk=\"0.4792033450\" data-stat=\"win_loss_perc\">.479</td><td class=\"right \" data-stat=\"g_over_500\">-378</td><td class=\"right \" data-stat=\"divisions\">7</td><td class=\"right \" data-stat=\"pennants\">2</td><td class=\"right \" data-stat=\"world_series_titles\">0</td><td class=\"right \" data-stat=\"playoffs\">8</td><td class=\"right \" data-stat=\"players_number\">1081</td><td class=\"right \" data-stat=\"HOFers\">7</td><td class=\"right \" data-stat=\"R\">40,943</td><td class=\"right \" data-stat=\"AB\">310,878</td><td class=\"right \" data-stat=\"H\">80,791</td><td class=\"right \" data-stat=\"HR\">8,894</td><td class=\"right \" data-stat=\"batting_avg\">.260</td><td class=\"right \" data-stat=\"RA\">42,642</td><td class=\"right \" data-stat=\"earned_run_avg\">4.25</td></tr>\n",
       "<tr class=\"partial_table\"><td csk=\"28.0013\"> </td><td class=\"zzzz\" colspan=\"21\"><span class=\"alternate_names\">       Also played as Washington Senators</span></td></tr>\n",
       "<tr><th class=\"right \" csk=\"29\" data-stat=\"ranker\" scope=\"row\">29</th><td class=\"left \" data-stat=\"franchise_name\"><a href=\"/teams/TOR/\">Toronto Blue Jays</a></td><td class=\"right \" data-stat=\"year_min\">1977</td><td class=\"right \" data-stat=\"year_max\">2017</td><td class=\"right \" data-stat=\"G\">6,520</td><td class=\"right \" data-stat=\"W\">3,243</td><td class=\"right \" data-stat=\"L\">3,274</td><td class=\"right \" csk=\"0.4976216050\" data-stat=\"win_loss_perc\">.498</td><td class=\"right \" data-stat=\"g_over_500\">-31</td><td class=\"right \" data-stat=\"divisions\">6</td><td class=\"right \" data-stat=\"pennants\">2</td><td class=\"right \" data-stat=\"world_series_titles\">2</td><td class=\"right \" data-stat=\"playoffs\">7</td><td class=\"right \" data-stat=\"players_number\">745</td><td class=\"right \" data-stat=\"HOFers\">7</td><td class=\"right \" data-stat=\"R\">30,164</td><td class=\"right \" data-stat=\"AB\">223,779</td><td class=\"right \" data-stat=\"H\">58,515</td><td class=\"right \" data-stat=\"HR\">6,858</td><td class=\"right \" data-stat=\"batting_avg\">.261</td><td class=\"right \" data-stat=\"RA\">29,825</td><td class=\"right \" data-stat=\"earned_run_avg\">4.21</td></tr>\n",
       "<tr><th class=\"right \" csk=\"30\" data-stat=\"ranker\" scope=\"row\">30</th><td class=\"left \" data-stat=\"franchise_name\"><a href=\"/teams/WSN/\">Washington Nationals</a></td><td class=\"right \" data-stat=\"year_min\">1969</td><td class=\"right \" data-stat=\"year_max\">2017</td><td class=\"right \" data-stat=\"G\">7,806</td><td class=\"right \" data-stat=\"W\">3,802</td><td class=\"right \" data-stat=\"L\">4,000</td><td class=\"right \" csk=\"0.4873109450\" data-stat=\"win_loss_perc\">.487</td><td class=\"right \" data-stat=\"g_over_500\">-198</td><td class=\"right \" data-stat=\"divisions\">5</td><td class=\"right \" data-stat=\"pennants\">0</td><td class=\"right \" data-stat=\"world_series_titles\">0</td><td class=\"right \" data-stat=\"playoffs\">5</td><td class=\"right \" data-stat=\"players_number\">905</td><td class=\"right \" data-stat=\"HOFers\">8</td><td class=\"right \" data-stat=\"R\">32,396</td><td class=\"right \" data-stat=\"AB\">264,231</td><td class=\"right \" data-stat=\"H\">67,045</td><td class=\"right \" data-stat=\"HR\">6,463</td><td class=\"right \" data-stat=\"batting_avg\">.254</td><td class=\"right \" data-stat=\"RA\">33,458</td><td class=\"right \" data-stat=\"earned_run_avg\">3.87</td></tr>\n",
       "<tr class=\"partial_table\"><td csk=\"30.0013\"> </td><td class=\"zzzz\" colspan=\"21\"><span class=\"alternate_names\">       Also played as Montreal Expos</span></td></tr>\n",
       "<tr class=\"no_mobile partial_table\" valign=\"top\"><td csk=\"30.0130\"> </td><td class=\"zzzz\" colspan=\"21\"><span class=\"moved_names\">Washington Senators (1901-1960), see <a class=\"underline_text\" href=\"/teams/MIN/\">Minnesota Twins</a></span></td></tr>\n",
       "<tr class=\"no_mobile partial_table\" valign=\"top\"><td csk=\"30.0140\"> </td><td class=\"zzzz\" colspan=\"21\"><span class=\"moved_names\">Washington Senators (1961-1971), see <a class=\"underline_text\" href=\"/teams/TEX/\">Texas Rangers</a></span></td></tr>\n",
       "</tbody></table>"
      ]
     },
     "execution_count": 37,
     "metadata": {},
     "output_type": "execute_result"
    }
   ],
   "source": [
    "active_teams_table"
   ]
  },
  {
   "cell_type": "code",
   "execution_count": 21,
   "metadata": {},
   "outputs": [
    {
     "name": "stdout",
     "output_type": "stream",
     "text": [
      "<th class=\"left \" csk=\"Arrieta,Jake\" data-append-csv=\"arrieja01\" data-stat=\"player\" scope=\"row\"><a href=\"/players/a/arrieja01.shtml\">Jake Arrieta</a></th>\n"
     ]
    }
   ],
   "source": [
    "url = 'https://www.baseball-reference.com/teams/BAL/2013-roster.shtml'\n",
    "html = get_response(url).text\n",
    "soup = BeautifulSoup(html, 'lxml')\n",
    "players = soup.find_all(\"th\", attrs={\"class\": \"left \"})\n",
    "print(players[0])"
   ]
  },
  {
   "cell_type": "code",
   "execution_count": 39,
   "metadata": {},
   "outputs": [
    {
     "data": {
      "text/plain": [
       "300"
      ]
     },
     "execution_count": 39,
     "metadata": {},
     "output_type": "execute_result"
    }
   ],
   "source": [
    "len(urls)"
   ]
  },
  {
   "cell_type": "code",
   "execution_count": 46,
   "metadata": {},
   "outputs": [],
   "source": [
    "last_time = time.time()"
   ]
  },
  {
   "cell_type": "code",
   "execution_count": 47,
   "metadata": {},
   "outputs": [
    {
     "data": {
      "text/plain": [
       "10.701823949813843"
      ]
     },
     "execution_count": 47,
     "metadata": {},
     "output_type": "execute_result"
    }
   ],
   "source": [
    "time.time() - last_time"
   ]
  },
  {
   "cell_type": "code",
   "execution_count": 50,
   "metadata": {},
   "outputs": [
    {
     "data": {
      "text/plain": [
       "[(0, 'ARI'),\n",
       " (1, 'ATL'),\n",
       " (2, 'BAL'),\n",
       " (3, 'BOS'),\n",
       " (4, 'CHC'),\n",
       " (5, 'CHW'),\n",
       " (6, 'CIN'),\n",
       " (7, 'CLE'),\n",
       " (8, 'COL'),\n",
       " (9, 'DET'),\n",
       " (10, 'HOU'),\n",
       " (11, 'KCR'),\n",
       " (12, 'ANA'),\n",
       " (13, 'LAD'),\n",
       " (14, 'FLA'),\n",
       " (15, 'MIL'),\n",
       " (16, 'MIN'),\n",
       " (17, 'NYM'),\n",
       " (18, 'NYY'),\n",
       " (19, 'OAK'),\n",
       " (20, 'PHI'),\n",
       " (21, 'PIT'),\n",
       " (22, 'SDP'),\n",
       " (23, 'SFG'),\n",
       " (24, 'SEA'),\n",
       " (25, 'STL'),\n",
       " (26, 'TBD'),\n",
       " (27, 'TEX'),\n",
       " (28, 'TOR'),\n",
       " (29, 'WSN')]"
      ]
     },
     "execution_count": 50,
     "metadata": {},
     "output_type": "execute_result"
    }
   ],
   "source": [
    "list(enumerate(team_codes))"
   ]
  },
  {
   "cell_type": "code",
   "execution_count": 74,
   "metadata": {},
   "outputs": [
    {
     "data": {
      "text/plain": [
       "1"
      ]
     },
     "execution_count": 74,
     "metadata": {},
     "output_type": "execute_result"
    }
   ],
   "source": [
    "teams_sql = 'select id, code from teams;'\n",
    "teams = run_query(teams_sql)\n",
    "list(enumerate(teams))\n",
    "teams[0][0]"
   ]
  },
  {
   "cell_type": "code",
   "execution_count": 113,
   "metadata": {},
   "outputs": [
    {
     "name": "stdout",
     "output_type": "stream",
     "text": [
      "((1, 'ARI'), (2, 'ATL'), (3, 'BAL'), (4, 'BOS'), (5, 'CHC'), (6, 'CHW'), (7, 'CIN'), (8, 'CLE'), (9, 'COL'), (10, 'DET'), (11, 'HOU'), (12, 'KCR'), (13, 'ANA'), (14, 'LAD'), (15, 'FLA'), (16, 'MIL'), (17, 'MIN'), (18, 'NYM'), (19, 'NYY'), (20, 'OAK'), (21, 'PHI'), (22, 'PIT'), (23, 'SDP'), (24, 'SFG'), (25, 'SEA'), (26, 'STL'), (27, 'TBD'), (28, 'TEX'), (29, 'TOR'), (30, 'WSN'))\n",
      "started_at:  1521604877.043767\n",
      "now searching:  ARI\n",
      "error:  (1060, \"Duplicate column name '1'\")\n",
      "error sql:  INSERT INTO players (name) SELECT * FROM (SELECT \"Emilio Bonifacio\") as tmp WHERE NOT EXISTS (SELECT name FROM players WHERE name = \"Emilio Bonifacio\");\n",
      "now searching:  ATL\n",
      "now searching:  BAL\n",
      "now searching:  BOS\n",
      "now searching:  CHC\n",
      "now searching:  CHW\n",
      "now searching:  CIN\n",
      "now searching:  CLE\n",
      "now searching:  COL\n",
      "now searching:  DET\n",
      "now searching:  HOU\n",
      "now searching:  KCR\n",
      "now searching:  ANA\n",
      "cannnot accessed: https://www.baseball-reference.com/teams/ANA/2008-roster.shtml\n",
      "cannnot accessed: https://www.baseball-reference.com/teams/ANA/2009-roster.shtml\n",
      "cannnot accessed: https://www.baseball-reference.com/teams/ANA/2010-roster.shtml\n",
      "cannnot accessed: https://www.baseball-reference.com/teams/ANA/2011-roster.shtml\n",
      "cannnot accessed: https://www.baseball-reference.com/teams/ANA/2012-roster.shtml\n",
      "cannnot accessed: https://www.baseball-reference.com/teams/ANA/2013-roster.shtml\n",
      "cannnot accessed: https://www.baseball-reference.com/teams/ANA/2014-roster.shtml\n",
      "cannnot accessed: https://www.baseball-reference.com/teams/ANA/2015-roster.shtml\n",
      "cannnot accessed: https://www.baseball-reference.com/teams/ANA/2016-roster.shtml\n",
      "cannnot accessed: https://www.baseball-reference.com/teams/ANA/2017-roster.shtml\n",
      "now searching:  LAD\n",
      "error:  (1060, \"Duplicate column name '2008'\")\n",
      "error sql:  INSERT INTO players (name) SELECT * FROM (SELECT \"Chad Billingsley\") as tmp WHERE NOT EXISTS (SELECT name FROM players WHERE name = \"Chad Billingsley\");\n",
      "error:  (1060, \"Duplicate column name '2009'\")\n",
      "error sql:  INSERT INTO players (name) SELECT * FROM (SELECT \"Scott Elbert\") as tmp WHERE NOT EXISTS (SELECT name FROM players WHERE name = \"Scott Elbert\");\n",
      "error:  (1060, \"Duplicate column name '2010'\")\n",
      "error sql:  INSERT INTO players (name) SELECT * FROM (SELECT \"A.J. Ellis\") as tmp WHERE NOT EXISTS (SELECT name FROM players WHERE name = \"A.J. Ellis\");\n",
      "error:  (1060, \"Duplicate column name '2011'\")\n",
      "error sql:  INSERT INTO players (name) SELECT * FROM (SELECT \"Andre Ethier\") as tmp WHERE NOT EXISTS (SELECT name FROM players WHERE name = \"Andre Ethier\");\n",
      "error:  (1060, \"Duplicate column name '14'\")\n",
      "error sql:  INSERT INTO players (name) SELECT * FROM (SELECT \"Dan Haren\") as tmp WHERE NOT EXISTS (SELECT name FROM players WHERE name = \"Dan Haren\");\n",
      "now searching:  FLA\n",
      "cannnot accessed: https://www.baseball-reference.com/teams/FLA/2012-roster.shtml\n",
      "cannnot accessed: https://www.baseball-reference.com/teams/FLA/2013-roster.shtml\n",
      "cannnot accessed: https://www.baseball-reference.com/teams/FLA/2014-roster.shtml\n",
      "cannnot accessed: https://www.baseball-reference.com/teams/FLA/2015-roster.shtml\n",
      "cannnot accessed: https://www.baseball-reference.com/teams/FLA/2016-roster.shtml\n",
      "cannnot accessed: https://www.baseball-reference.com/teams/FLA/2017-roster.shtml\n",
      "now searching:  MIL\n",
      "now searching:  MIN\n",
      "now searching:  NYM\n",
      "now searching:  NYY\n",
      "now searching:  OAK\n",
      "now searching:  PHI\n",
      "now searching:  PIT\n",
      "now searching:  SDP\n",
      "error:  (1060, \"Duplicate column name '23'\")\n",
      "error sql:  INSERT INTO players (name) SELECT * FROM (SELECT \"Micah Owings\") as tmp WHERE NOT EXISTS (SELECT name FROM players WHERE name = \"Micah Owings\");\n",
      "now searching:  SFG\n",
      "now searching:  SEA\n",
      "now searching:  STL\n",
      "now searching:  TBD\n",
      "cannnot accessed: https://www.baseball-reference.com/teams/TBD/2008-roster.shtml\n",
      "cannnot accessed: https://www.baseball-reference.com/teams/TBD/2009-roster.shtml\n",
      "cannnot accessed: https://www.baseball-reference.com/teams/TBD/2010-roster.shtml\n",
      "cannnot accessed: https://www.baseball-reference.com/teams/TBD/2011-roster.shtml\n",
      "cannnot accessed: https://www.baseball-reference.com/teams/TBD/2012-roster.shtml\n",
      "cannnot accessed: https://www.baseball-reference.com/teams/TBD/2013-roster.shtml\n",
      "cannnot accessed: https://www.baseball-reference.com/teams/TBD/2014-roster.shtml\n",
      "cannnot accessed: https://www.baseball-reference.com/teams/TBD/2015-roster.shtml\n",
      "cannnot accessed: https://www.baseball-reference.com/teams/TBD/2016-roster.shtml\n",
      "cannnot accessed: https://www.baseball-reference.com/teams/TBD/2017-roster.shtml\n",
      "now searching:  TEX\n",
      "now searching:  TOR\n",
      "now searching:  WSN\n",
      "ended_time:   1521605450.775571\n",
      "time_passed:  573.7318041324615\n"
     ]
    }
   ],
   "source": [
    "# ココほんちゃん\n",
    "last_time = time.time()\n",
    "teams_sql = 'select id, code from teams;'\n",
    "teams = run_query(teams_sql)\n",
    "print(teams)\n",
    "list(enumerate(teams))\n",
    "started_time = time.time()\n",
    "print(\"started_at: \", started_time)\n",
    "\n",
    "for index, team in enumerate(teams):\n",
    "    team_id = team[0]\n",
    "    team_code = team[1]\n",
    "    print(\"now searching: \", team_code)\n",
    "#     if index > 0:\n",
    "#         break\n",
    "    for year_index, year in enumerate(years):\n",
    "#         if year_index > 0:\n",
    "#             break\n",
    "        url = \"https://www.baseball-reference.com/teams/{0}/{1}-roster.shtml\".format(team_code, year)\n",
    "        passed_time = time.time() - last_time\n",
    "        if passed_time < 1.0:\n",
    "            time.sleep(1-passed_time)\n",
    "        \n",
    "        response = get_response(url)\n",
    "        if response.status_code != 200:\n",
    "            print(\"cannnot accessed: {0}\".format(url))\n",
    "            continue\n",
    "        \n",
    "        html = response.text\n",
    "        last_time = time.time()\n",
    "        soup = BeautifulSoup(html, 'lxml')\n",
    "\n",
    "        players = soup.find_all(\"th\", attrs={\"class\": \"left \"})\n",
    "        for player in players:\n",
    "            # TODO: ココ入れる\n",
    "            player_name = player.text\n",
    "#             print(\"===============\")\n",
    "#             print(\"team_id: \", team_id)\n",
    "#             print(\"p_name : \", player_name)\n",
    "#             print(\"year   : \", year)\n",
    "            try:\n",
    "                \n",
    "                player_sql = \"INSERT INTO players (name) SELECT * FROM (SELECT \\\"{0}\\\") as tmp WHERE NOT EXISTS (SELECT name FROM players WHERE name = \\\"{0}\\\");\".format(player_name)\n",
    "                run_query(player_sql)\n",
    "                player_id_sql = \"select id from players where name = \\\"{0}\\\" LIMIT 1\".format(player_name)\n",
    "                player_id = run_query(player_id_sql)\n",
    "                team_player_sql = \"\"\"\n",
    "                INSERT INTO team_players (team_id, player_id, year) \n",
    "                SELECT * FROM (SELECT {0}, {1}, {2}) as tmp \n",
    "                WHERE NOT EXISTS (\n",
    "                SELECT * FROM team_players \n",
    "                WHERE team_id = {0} and player_id = {1} and year = {2}) \n",
    "                LIMIT 1;\n",
    "                \"\"\".format(team_id, player_id[0][0], year)\n",
    "                run_query(team_player_sql)\n",
    "            except Exception as e:\n",
    "                print(\"error: \", e)\n",
    "                print(\"error sql: \", player_sql)\n",
    "                \n",
    "            \n",
    "ended_time = time.time()\n",
    "time_passed = ended_time - started_time\n",
    "print(\"ended_time:  \", ended_time)\n",
    "print(\"time_passed: \", time_passed)"
   ]
  },
  {
   "cell_type": "code",
   "execution_count": null,
   "metadata": {},
   "outputs": [],
   "source": []
  },
  {
   "cell_type": "code",
   "execution_count": 114,
   "metadata": {},
   "outputs": [],
   "source": [
    "team_id = 1\n",
    "correct_sql = \"\"\"select * from team_players where team_id = {0}\n",
    "group by year;\"\"\".format(team_id)\n",
    "\n",
    "teams_num = run_query(correct_sql)"
   ]
  },
  {
   "cell_type": "code",
   "execution_count": 126,
   "metadata": {},
   "outputs": [
    {
     "name": "stdout",
     "output_type": "stream",
     "text": [
      "============\n",
      "team:  ARI   1\n",
      "len:   10\n",
      "result:  True\n",
      "============\n",
      "team:  ATL   2\n",
      "len:   10\n",
      "result:  False\n",
      "============\n",
      "team:  BAL   3\n",
      "len:   10\n",
      "result:  True\n",
      "============\n",
      "team:  BOS   4\n",
      "len:   10\n",
      "result:  True\n",
      "============\n",
      "team:  CHC   5\n",
      "len:   10\n",
      "result:  True\n",
      "============\n",
      "team:  CHW   6\n",
      "len:   10\n",
      "result:  False\n",
      "============\n",
      "team:  CIN   7\n",
      "len:   10\n",
      "result:  False\n",
      "============\n",
      "team:  CLE   8\n",
      "len:   10\n",
      "result:  True\n",
      "============\n",
      "team:  COL   9\n",
      "len:   10\n",
      "result:  True\n",
      "============\n",
      "team:  DET   10\n",
      "len:   10\n",
      "result:  False\n",
      "============\n",
      "team:  HOU   11\n",
      "len:   10\n",
      "result:  True\n",
      "============\n",
      "team:  KCR   12\n",
      "len:   10\n",
      "result:  True\n",
      "============\n",
      "team:  ANA   13\n",
      "len:   0\n",
      "result:  True\n",
      "============\n",
      "team:  LAD   14\n",
      "len:   10\n",
      "result:  True\n",
      "============\n",
      "team:  FLA   15\n",
      "len:   4\n",
      "result:  True\n",
      "============\n",
      "team:  MIL   16\n",
      "len:   10\n",
      "result:  True\n",
      "============\n",
      "team:  MIN   17\n",
      "len:   10\n",
      "result:  True\n",
      "============\n",
      "team:  NYM   18\n",
      "len:   10\n",
      "result:  True\n",
      "============\n",
      "team:  NYY   19\n",
      "len:   10\n",
      "result:  True\n",
      "============\n",
      "team:  OAK   20\n",
      "len:   10\n",
      "result:  True\n",
      "============\n",
      "team:  PHI   21\n",
      "len:   10\n",
      "result:  True\n",
      "============\n",
      "team:  PIT   22\n",
      "len:   10\n",
      "result:  True\n",
      "============\n",
      "team:  SDP   23\n",
      "len:   10\n",
      "result:  True\n",
      "============\n",
      "team:  SFG   24\n",
      "len:   10\n",
      "result:  True\n",
      "============\n",
      "team:  SEA   25\n",
      "len:   10\n",
      "result:  False\n",
      "============\n",
      "team:  STL   26\n",
      "len:   10\n",
      "result:  True\n",
      "============\n",
      "team:  TBD   27\n",
      "len:   0\n",
      "result:  True\n",
      "============\n",
      "team:  TEX   28\n",
      "len:   10\n",
      "result:  False\n",
      "============\n",
      "team:  TOR   29\n",
      "len:   10\n",
      "result:  True\n",
      "============\n",
      "team:  WSN   30\n",
      "len:   10\n",
      "result:  True\n"
     ]
    }
   ],
   "source": [
    "# 検算\n",
    "\n",
    "for team in teams:\n",
    "    team_id = team[0]\n",
    "    correct_sql = \"\"\"select count(*), year from team_players where team_id = {0}\n",
    "    group by year ;\"\"\".format(team_id)\n",
    "    teams_num = run_query(correct_sql)\n",
    "    print(\"============\")\n",
    "    print(\"team: \", team[1], \" \", team[0])\n",
    "    print(\"len:  \", len(teams_num))\n",
    "    correct = True\n",
    "    for num in teams_num:\n",
    "        if num[0] < 40:\n",
    "            correct = False\n",
    "    print(\"result: \", correct)"
   ]
  },
  {
   "cell_type": "code",
   "execution_count": null,
   "metadata": {},
   "outputs": [],
   "source": []
  },
  {
   "cell_type": "code",
   "execution_count": 128,
   "metadata": {},
   "outputs": [
    {
     "name": "stdout",
     "output_type": "stream",
     "text": [
      "[(1, 'ARI'), (2, 'ATL'), (3, 'BAL'), (4, 'BOS'), (5, 'CHC'), (6, 'CHW'), (7, 'CIN'), (8, 'CLE'), (9, 'COL'), (10, 'DET'), (11, 'HOU'), (12, 'KCR'), (14, 'LAD'), (16, 'MIL'), (17, 'MIN'), (18, 'NYM'), (19, 'NYY'), (20, 'OAK'), (21, 'PHI'), (22, 'PIT'), (23, 'SDP'), (24, 'SFG'), (25, 'SEA'), (26, 'STL'), (28, 'TEX'), (29, 'TOR'), (30, 'WSN')]\n"
     ]
    }
   ],
   "source": [
    "# データとして使えるチームを抽出\n",
    "\n",
    "verified_teams = []\n",
    "for team in teams:\n",
    "    team_id = team[0]\n",
    "    correct_sql = \"\"\"select count(*), year from team_players where team_id = {0}\n",
    "    group by year ;\"\"\".format(team_id)\n",
    "    teams_num = run_query(correct_sql)\n",
    "    correct = True\n",
    "    if len(teams_num) == 10:\n",
    "        verified_teams.append(team)\n",
    "print(verified_teams)"
   ]
  },
  {
   "cell_type": "code",
   "execution_count": null,
   "metadata": {},
   "outputs": [],
   "source": []
  },
  {
   "cell_type": "code",
   "execution_count": 132,
   "metadata": {},
   "outputs": [
    {
     "name": "stdout",
     "output_type": "stream",
     "text": [
      "['1', '2', '3']\n",
      "['3', '4', '5']\n"
     ]
    }
   ],
   "source": [
    "import csv\n",
    "someiterable = [['1','2','3'],['3','4','5']]\n",
    "with open('some.csv', 'w', newline='') as f:\n",
    "    writer = csv.writer(f)\n",
    "    writer.writerows(someiterable)\n",
    "    \n",
    "with open('some.csv') as f:\n",
    "    reader = csv.reader(f)\n",
    "    for row in reader:\n",
    "        print(row)"
   ]
  },
  {
   "cell_type": "code",
   "execution_count": null,
   "metadata": {},
   "outputs": [],
   "source": [
    "for team in verified_teams:"
   ]
  },
  {
   "cell_type": "code",
   "execution_count": 144,
   "metadata": {},
   "outputs": [
    {
     "name": "stdout",
     "output_type": "stream",
     "text": [
      "aaaaaaaaaaaaaa\n",
      "[(63,), (42,), (64,), (44,), (2,), (65,), (66,), (67,), (68,), (9,), (69,), (70,), (49,), (71,), (14,), (72,), (50,), (73,), (74,), (16,), (75,), (76,), (77,), (78,), (79,), (80,), (21,), (53,), (81,), (22,), (55,), (27,), (29,), (82,), (56,), (83,), (84,), (32,), (57,), (85,), (86,), (36,), (87,), (38,), (88,), (60,), (89,), (41,)]\n",
      "bbbbbbbbbbbbb\n",
      "[(42,), (90,), (91,), (92,), (93,), (94,), (95,), (96,), (97,), (98,), (99,), (68,), (9,), (100,), (69,), (101,), (70,), (102,), (49,), (13,), (72,), (103,), (104,), (74,), (76,), (77,), (78,), (105,), (106,), (107,), (108,), (109,), (21,), (110,), (111,), (112,), (23,), (113,), (55,), (114,), (115,), (116,), (117,), (56,), (85,), (118,), (38,), (60,), (61,), (41,), (119,)]\n"
     ]
    },
    {
     "data": {
      "text/plain": [
       "18"
      ]
     },
     "execution_count": 144,
     "metadata": {},
     "output_type": "execute_result"
    }
   ],
   "source": [
    "team = verified_teams[0]\n",
    "query = \"\"\"select player_id from team_players \n",
    "where team_id = {0}\n",
    "and   year = 2010;\n",
    "\"\"\".format(team[0])\n",
    "# cohort_array = []\n",
    "cohort_array = run_query(query)\n",
    "print(\"aaaaaaaaaaaaaa\")\n",
    "print(list(cohort_array))\n",
    "\n",
    "query = \"\"\"select player_id from team_players \n",
    "where team_id = {0}\n",
    "and   year = 2011;\n",
    "\"\"\".format(team[0])\n",
    "cohort_array2 = run_query(query)\n",
    "print(\"bbbbbbbbbbbbb\")\n",
    "print(list(cohort_array2))\n",
    "\n",
    "len(set(cohort_array) & set(cohort_array2))"
   ]
  },
  {
   "cell_type": "code",
   "execution_count": 183,
   "metadata": {},
   "outputs": [
    {
     "name": "stdout",
     "output_type": "stream",
     "text": [
      "year: [40, 24, 12, 6, 4, 1, 1, 0, 0, 0]\n",
      "year: [0, 45, 21, 10, 6, 3, 2, 0, 0, 0]\n",
      "year: [0, 0, 48, 18, 11, 3, 3, 1, 1, 0]\n",
      "year: [0, 0, 0, 51, 25, 13, 10, 6, 4, 2]\n",
      "year: [0, 0, 0, 0, 48, 19, 12, 8, 6, 4]\n",
      "year: [0, 0, 0, 0, 0, 44, 26, 12, 8, 6]\n",
      "year: [0, 0, 0, 0, 0, 0, 52, 23, 13, 8]\n",
      "year: [0, 0, 0, 0, 0, 0, 0, 50, 29, 17]\n",
      "year: [0, 0, 0, 0, 0, 0, 0, 0, 50, 22]\n",
      "year: [0, 0, 0, 0, 0, 0, 0, 0, 0, 45]\n",
      "result:  [[40, 24, 12, 6, 4, 1, 1, 0, 0, 0], [0, 45, 21, 10, 6, 3, 2, 0, 0, 0], [0, 0, 48, 18, 11, 3, 3, 1, 1, 0], [0, 0, 0, 51, 25, 13, 10, 6, 4, 2], [0, 0, 0, 0, 48, 19, 12, 8, 6, 4], [0, 0, 0, 0, 0, 44, 26, 12, 8, 6], [0, 0, 0, 0, 0, 0, 52, 23, 13, 8], [0, 0, 0, 0, 0, 0, 0, 50, 29, 17], [0, 0, 0, 0, 0, 0, 0, 0, 50, 22], [0, 0, 0, 0, 0, 0, 0, 0, 0, 45]]\n"
     ]
    }
   ],
   "source": [
    "team = verified_teams[0]\n",
    "\n",
    "\n",
    "def get_cohort_streak(original_year):\n",
    "    team_players_cohort_data = []\n",
    "    for index, year in enumerate(range(original_year, 2018)):\n",
    "        query = \"\"\"select player_id from team_players \n",
    "    where team_id = {0}\n",
    "    and   year = {1};\n",
    "    \"\"\".format(team[0], year)\n",
    "        players_ids = run_query(query)\n",
    "        if index == 0:\n",
    "            original_ids = set(players_ids)\n",
    "            team_players_cohort_data.append(len(original_ids))\n",
    "            continue\n",
    "        exisiting_number = len(set(players_ids) & original_ids)\n",
    "        team_players_cohort_data.append(exisiting_number)\n",
    "\n",
    "#     print(team_players_cohort_data)\n",
    "    return team_players_cohort_data\n",
    "\n",
    "get_cohort_streak(2012)\n",
    "\n",
    "\n",
    "cohort_array = []\n",
    "team_code = 'SEA'\n",
    "for index, original_year in enumerate(range(2008,2018)):\n",
    "    year_streak = [0 for i in range(0,index)]\n",
    "    data = get_cohort_streak(original_year)\n",
    "    year_data = year_streak + list(data)    \n",
    "    print(\"year:\", year_data)\n",
    "    cohort_array.append(year_data)\n",
    "    \n",
    "print(\"result: \", cohort_array)\n",
    "\n",
    "import csv\n",
    "with open('{0}.csv'.format(team_code), 'w', newline='') as f:\n",
    "    writer = csv.writer(f)\n",
    "    writer.writerows(cohort_array)"
   ]
  },
  {
   "cell_type": "code",
   "execution_count": 175,
   "metadata": {},
   "outputs": [
    {
     "name": "stdout",
     "output_type": "stream",
     "text": [
      "None\n"
     ]
    }
   ],
   "source": [
    "print([1,2,3].append([1,2,3]))"
   ]
  },
  {
   "cell_type": "code",
   "execution_count": 161,
   "metadata": {},
   "outputs": [
    {
     "data": {
      "text/plain": [
       "[0]"
      ]
     },
     "execution_count": 161,
     "metadata": {},
     "output_type": "execute_result"
    }
   ],
   "source": [
    "[0 for i in range(0,1)]"
   ]
  },
  {
   "cell_type": "code",
   "execution_count": 146,
   "metadata": {},
   "outputs": [
    {
     "name": "stdout",
     "output_type": "stream",
     "text": [
      "(0, 2008)\n",
      "(1, 2009)\n",
      "(2, 2010)\n",
      "(3, 2011)\n",
      "(4, 2012)\n",
      "(5, 2013)\n",
      "(6, 2014)\n",
      "(7, 2015)\n",
      "(8, 2016)\n",
      "(9, 2017)\n"
     ]
    }
   ],
   "source": [
    "for i in enumerate(range(2008,2018)):\n",
    "    print(i)"
   ]
  },
  {
   "cell_type": "code",
   "execution_count": null,
   "metadata": {},
   "outputs": [],
   "source": []
  },
  {
   "cell_type": "code",
   "execution_count": null,
   "metadata": {},
   "outputs": [],
   "source": []
  },
  {
   "cell_type": "code",
   "execution_count": 105,
   "metadata": {},
   "outputs": [],
   "source": [
    "sql = \"select id from players where name = \\\"Emilio Bonifacio\\\"  LIMIT 1;\"\n",
    "hoge = run_query(sql)"
   ]
  },
  {
   "cell_type": "code",
   "execution_count": 97,
   "metadata": {},
   "outputs": [
    {
     "data": {
      "text/plain": [
       "64092"
      ]
     },
     "execution_count": 97,
     "metadata": {},
     "output_type": "execute_result"
    }
   ],
   "source": [
    "hoge[0][0]"
   ]
  },
  {
   "cell_type": "code",
   "execution_count": 75,
   "metadata": {},
   "outputs": [],
   "source": [
    "response = get_response('https://www.baseball-reference.com/teams/SEA/2017-roster.shtml')"
   ]
  },
  {
   "cell_type": "code",
   "execution_count": 78,
   "metadata": {},
   "outputs": [
    {
     "data": {
      "text/plain": [
       "200"
      ]
     },
     "execution_count": 78,
     "metadata": {},
     "output_type": "execute_result"
    }
   ],
   "source": [
    "response.status_code"
   ]
  },
  {
   "cell_type": "code",
   "execution_count": null,
   "metadata": {},
   "outputs": [],
   "source": []
  },
  {
   "cell_type": "code",
   "execution_count": null,
   "metadata": {},
   "outputs": [],
   "source": [
    "for player in players:\n",
    "    print(\"player: \", player.text)"
   ]
  },
  {
   "cell_type": "code",
   "execution_count": null,
   "metadata": {},
   "outputs": [],
   "source": [
    "tea"
   ]
  },
  {
   "cell_type": "code",
   "execution_count": 65,
   "metadata": {},
   "outputs": [],
   "source": [
    "import MySQLdb\n",
    "DB_HOST = \"localhost\"\n",
    "DB_PORT = 3306\n",
    "DB_NAME = \"bb_players\"\n",
    "DB_USER = \"root\"\n",
    "DB_PASS = \"\"\n",
    "\n",
    "def run_query(sql):\n",
    "  connector = MySQLdb.connect(host=DB_HOST, port=DB_PORT, db=DB_NAME, user=DB_USER, passwd=DB_PASS, charset=\"utf8mb4\")\n",
    "  cursor = connector.cursor()\n",
    "  cursor.execute(sql)\n",
    "  result = cursor.fetchall()\n",
    "  connector.commit()\n",
    "  cursor.close()\n",
    "  connector.close()\n",
    "  return result\n"
   ]
  },
  {
   "cell_type": "code",
   "execution_count": 23,
   "metadata": {},
   "outputs": [
    {
     "data": {
      "text/plain": [
       "(('id', 'int(11) unsigned', 'NO', 'PRI', None, 'auto_increment'),\n",
       " ('team_id', 'int(11)', 'NO', '', None, ''),\n",
       " ('name', 'int(30)', 'NO', '', None, ''),\n",
       " ('year', 'int(4)', 'NO', '', None, ''))"
      ]
     },
     "execution_count": 23,
     "metadata": {},
     "output_type": "execute_result"
    }
   ],
   "source": [
    "sql = \"desc players;\"\n",
    "run_query(sql)"
   ]
  },
  {
   "cell_type": "code",
   "execution_count": null,
   "metadata": {},
   "outputs": [],
   "source": [
    "sql = \"delete from teams;\"\n",
    "run_query(sql)"
   ]
  },
  {
   "cell_type": "code",
   "execution_count": 68,
   "metadata": {},
   "outputs": [],
   "source": []
  },
  {
   "cell_type": "code",
   "execution_count": null,
   "metadata": {},
   "outputs": [],
   "source": []
  }
 ],
 "metadata": {
  "kernelspec": {
   "display_name": "Python 3",
   "language": "python",
   "name": "python3"
  },
  "language_info": {
   "codemirror_mode": {
    "name": "ipython",
    "version": 3
   },
   "file_extension": ".py",
   "mimetype": "text/x-python",
   "name": "python",
   "nbconvert_exporter": "python",
   "pygments_lexer": "ipython3",
   "version": "3.5.2"
  }
 },
 "nbformat": 4,
 "nbformat_minor": 2
}
